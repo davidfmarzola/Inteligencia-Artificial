{
 "cells": [
  {
   "cell_type": "code",
   "execution_count": 40,
   "metadata": {},
   "outputs": [],
   "source": [
    "!pip -q install plotly --upgrade"
   ]
  },
  {
   "cell_type": "markdown",
   "metadata": {},
   "source": [
    "Importing libraries"
   ]
  },
  {
   "cell_type": "code",
   "execution_count": 41,
   "metadata": {},
   "outputs": [],
   "source": [
    "import pandas as pd\n",
    "import numpy as np\n",
    "import matplotlib.pyplot as plt\n",
    "import plotly.express as px"
   ]
  },
  {
   "cell_type": "code",
   "execution_count": 42,
   "metadata": {},
   "outputs": [
    {
     "data": {
      "text/html": [
       "<div>\n",
       "<style scoped>\n",
       "    .dataframe tbody tr th:only-of-type {\n",
       "        vertical-align: middle;\n",
       "    }\n",
       "\n",
       "    .dataframe tbody tr th {\n",
       "        vertical-align: top;\n",
       "    }\n",
       "\n",
       "    .dataframe thead th {\n",
       "        text-align: right;\n",
       "    }\n",
       "</style>\n",
       "<table border=\"1\" class=\"dataframe\">\n",
       "  <thead>\n",
       "    <tr style=\"text-align: right;\">\n",
       "      <th></th>\n",
       "      <th>age</th>\n",
       "      <th>sex</th>\n",
       "      <th>'on thyroxine'</th>\n",
       "      <th>'query on thyroxine'</th>\n",
       "      <th>'on antithyroid medication'</th>\n",
       "      <th>sick</th>\n",
       "      <th>pregnant</th>\n",
       "      <th>'thyroid surgery'</th>\n",
       "      <th>'I131 treatment'</th>\n",
       "      <th>'query hypothyroid'</th>\n",
       "      <th>...</th>\n",
       "      <th>'TT4 measured'</th>\n",
       "      <th>TT4</th>\n",
       "      <th>'T4U measured'</th>\n",
       "      <th>T4U</th>\n",
       "      <th>'FTI measured'</th>\n",
       "      <th>FTI</th>\n",
       "      <th>'TBG measured'</th>\n",
       "      <th>TBG</th>\n",
       "      <th>'referral source'</th>\n",
       "      <th>Class</th>\n",
       "    </tr>\n",
       "  </thead>\n",
       "  <tbody>\n",
       "    <tr>\n",
       "      <th>0</th>\n",
       "      <td>41</td>\n",
       "      <td>F</td>\n",
       "      <td>f</td>\n",
       "      <td>f</td>\n",
       "      <td>f</td>\n",
       "      <td>f</td>\n",
       "      <td>f</td>\n",
       "      <td>f</td>\n",
       "      <td>f</td>\n",
       "      <td>f</td>\n",
       "      <td>...</td>\n",
       "      <td>t</td>\n",
       "      <td>125</td>\n",
       "      <td>t</td>\n",
       "      <td>1.14</td>\n",
       "      <td>t</td>\n",
       "      <td>109</td>\n",
       "      <td>f</td>\n",
       "      <td>?</td>\n",
       "      <td>SVHC</td>\n",
       "      <td>negative</td>\n",
       "    </tr>\n",
       "    <tr>\n",
       "      <th>1</th>\n",
       "      <td>23</td>\n",
       "      <td>F</td>\n",
       "      <td>f</td>\n",
       "      <td>f</td>\n",
       "      <td>f</td>\n",
       "      <td>f</td>\n",
       "      <td>f</td>\n",
       "      <td>f</td>\n",
       "      <td>f</td>\n",
       "      <td>f</td>\n",
       "      <td>...</td>\n",
       "      <td>t</td>\n",
       "      <td>102</td>\n",
       "      <td>f</td>\n",
       "      <td>?</td>\n",
       "      <td>f</td>\n",
       "      <td>?</td>\n",
       "      <td>f</td>\n",
       "      <td>?</td>\n",
       "      <td>other</td>\n",
       "      <td>negative</td>\n",
       "    </tr>\n",
       "    <tr>\n",
       "      <th>2</th>\n",
       "      <td>46</td>\n",
       "      <td>M</td>\n",
       "      <td>f</td>\n",
       "      <td>f</td>\n",
       "      <td>f</td>\n",
       "      <td>f</td>\n",
       "      <td>f</td>\n",
       "      <td>f</td>\n",
       "      <td>f</td>\n",
       "      <td>f</td>\n",
       "      <td>...</td>\n",
       "      <td>t</td>\n",
       "      <td>109</td>\n",
       "      <td>t</td>\n",
       "      <td>0.91</td>\n",
       "      <td>t</td>\n",
       "      <td>120</td>\n",
       "      <td>f</td>\n",
       "      <td>?</td>\n",
       "      <td>other</td>\n",
       "      <td>negative</td>\n",
       "    </tr>\n",
       "    <tr>\n",
       "      <th>3</th>\n",
       "      <td>70</td>\n",
       "      <td>F</td>\n",
       "      <td>t</td>\n",
       "      <td>f</td>\n",
       "      <td>f</td>\n",
       "      <td>f</td>\n",
       "      <td>f</td>\n",
       "      <td>f</td>\n",
       "      <td>f</td>\n",
       "      <td>f</td>\n",
       "      <td>...</td>\n",
       "      <td>t</td>\n",
       "      <td>175</td>\n",
       "      <td>f</td>\n",
       "      <td>?</td>\n",
       "      <td>f</td>\n",
       "      <td>?</td>\n",
       "      <td>f</td>\n",
       "      <td>?</td>\n",
       "      <td>other</td>\n",
       "      <td>negative</td>\n",
       "    </tr>\n",
       "    <tr>\n",
       "      <th>4</th>\n",
       "      <td>70</td>\n",
       "      <td>F</td>\n",
       "      <td>f</td>\n",
       "      <td>f</td>\n",
       "      <td>f</td>\n",
       "      <td>f</td>\n",
       "      <td>f</td>\n",
       "      <td>f</td>\n",
       "      <td>f</td>\n",
       "      <td>f</td>\n",
       "      <td>...</td>\n",
       "      <td>t</td>\n",
       "      <td>61</td>\n",
       "      <td>t</td>\n",
       "      <td>0.87</td>\n",
       "      <td>t</td>\n",
       "      <td>70</td>\n",
       "      <td>f</td>\n",
       "      <td>?</td>\n",
       "      <td>SVI</td>\n",
       "      <td>negative</td>\n",
       "    </tr>\n",
       "    <tr>\n",
       "      <th>...</th>\n",
       "      <td>...</td>\n",
       "      <td>...</td>\n",
       "      <td>...</td>\n",
       "      <td>...</td>\n",
       "      <td>...</td>\n",
       "      <td>...</td>\n",
       "      <td>...</td>\n",
       "      <td>...</td>\n",
       "      <td>...</td>\n",
       "      <td>...</td>\n",
       "      <td>...</td>\n",
       "      <td>...</td>\n",
       "      <td>...</td>\n",
       "      <td>...</td>\n",
       "      <td>...</td>\n",
       "      <td>...</td>\n",
       "      <td>...</td>\n",
       "      <td>...</td>\n",
       "      <td>...</td>\n",
       "      <td>...</td>\n",
       "      <td>...</td>\n",
       "    </tr>\n",
       "    <tr>\n",
       "      <th>3767</th>\n",
       "      <td>58</td>\n",
       "      <td>F</td>\n",
       "      <td>f</td>\n",
       "      <td>f</td>\n",
       "      <td>f</td>\n",
       "      <td>f</td>\n",
       "      <td>f</td>\n",
       "      <td>f</td>\n",
       "      <td>t</td>\n",
       "      <td>f</td>\n",
       "      <td>...</td>\n",
       "      <td>t</td>\n",
       "      <td>122</td>\n",
       "      <td>t</td>\n",
       "      <td>1.12</td>\n",
       "      <td>t</td>\n",
       "      <td>108</td>\n",
       "      <td>f</td>\n",
       "      <td>?</td>\n",
       "      <td>other</td>\n",
       "      <td>negative</td>\n",
       "    </tr>\n",
       "    <tr>\n",
       "      <th>3768</th>\n",
       "      <td>52</td>\n",
       "      <td>M</td>\n",
       "      <td>f</td>\n",
       "      <td>f</td>\n",
       "      <td>f</td>\n",
       "      <td>f</td>\n",
       "      <td>f</td>\n",
       "      <td>f</td>\n",
       "      <td>t</td>\n",
       "      <td>f</td>\n",
       "      <td>...</td>\n",
       "      <td>t</td>\n",
       "      <td>92</td>\n",
       "      <td>t</td>\n",
       "      <td>0.76</td>\n",
       "      <td>t</td>\n",
       "      <td>121</td>\n",
       "      <td>f</td>\n",
       "      <td>?</td>\n",
       "      <td>other</td>\n",
       "      <td>negative</td>\n",
       "    </tr>\n",
       "    <tr>\n",
       "      <th>3769</th>\n",
       "      <td>75</td>\n",
       "      <td>F</td>\n",
       "      <td>f</td>\n",
       "      <td>f</td>\n",
       "      <td>f</td>\n",
       "      <td>f</td>\n",
       "      <td>f</td>\n",
       "      <td>f</td>\n",
       "      <td>t</td>\n",
       "      <td>f</td>\n",
       "      <td>...</td>\n",
       "      <td>t</td>\n",
       "      <td>151</td>\n",
       "      <td>t</td>\n",
       "      <td>1.13</td>\n",
       "      <td>t</td>\n",
       "      <td>134</td>\n",
       "      <td>f</td>\n",
       "      <td>?</td>\n",
       "      <td>other</td>\n",
       "      <td>negative</td>\n",
       "    </tr>\n",
       "    <tr>\n",
       "      <th>3770</th>\n",
       "      <td>52</td>\n",
       "      <td>M</td>\n",
       "      <td>f</td>\n",
       "      <td>f</td>\n",
       "      <td>f</td>\n",
       "      <td>f</td>\n",
       "      <td>f</td>\n",
       "      <td>t</td>\n",
       "      <td>t</td>\n",
       "      <td>f</td>\n",
       "      <td>...</td>\n",
       "      <td>t</td>\n",
       "      <td>86</td>\n",
       "      <td>t</td>\n",
       "      <td>0.77</td>\n",
       "      <td>t</td>\n",
       "      <td>112</td>\n",
       "      <td>f</td>\n",
       "      <td>?</td>\n",
       "      <td>other</td>\n",
       "      <td>negative</td>\n",
       "    </tr>\n",
       "    <tr>\n",
       "      <th>3771</th>\n",
       "      <td>56</td>\n",
       "      <td>F</td>\n",
       "      <td>t</td>\n",
       "      <td>f</td>\n",
       "      <td>f</td>\n",
       "      <td>f</td>\n",
       "      <td>f</td>\n",
       "      <td>f</td>\n",
       "      <td>t</td>\n",
       "      <td>t</td>\n",
       "      <td>...</td>\n",
       "      <td>t</td>\n",
       "      <td>88</td>\n",
       "      <td>t</td>\n",
       "      <td>0.77</td>\n",
       "      <td>t</td>\n",
       "      <td>114</td>\n",
       "      <td>f</td>\n",
       "      <td>?</td>\n",
       "      <td>other</td>\n",
       "      <td>negative</td>\n",
       "    </tr>\n",
       "  </tbody>\n",
       "</table>\n",
       "<p>3772 rows × 30 columns</p>\n",
       "</div>"
      ],
      "text/plain": [
       "     age sex 'on thyroxine' 'query on thyroxine' 'on antithyroid medication'  \\\n",
       "0     41   F              f                    f                           f   \n",
       "1     23   F              f                    f                           f   \n",
       "2     46   M              f                    f                           f   \n",
       "3     70   F              t                    f                           f   \n",
       "4     70   F              f                    f                           f   \n",
       "...   ..  ..            ...                  ...                         ...   \n",
       "3767  58   F              f                    f                           f   \n",
       "3768  52   M              f                    f                           f   \n",
       "3769  75   F              f                    f                           f   \n",
       "3770  52   M              f                    f                           f   \n",
       "3771  56   F              t                    f                           f   \n",
       "\n",
       "     sick pregnant 'thyroid surgery' 'I131 treatment' 'query hypothyroid'  \\\n",
       "0       f        f                 f                f                   f   \n",
       "1       f        f                 f                f                   f   \n",
       "2       f        f                 f                f                   f   \n",
       "3       f        f                 f                f                   f   \n",
       "4       f        f                 f                f                   f   \n",
       "...   ...      ...               ...              ...                 ...   \n",
       "3767    f        f                 f                t                   f   \n",
       "3768    f        f                 f                t                   f   \n",
       "3769    f        f                 f                t                   f   \n",
       "3770    f        f                 t                t                   f   \n",
       "3771    f        f                 f                t                   t   \n",
       "\n",
       "      ... 'TT4 measured'  TT4 'T4U measured'   T4U 'FTI measured'  FTI  \\\n",
       "0     ...              t  125              t  1.14              t  109   \n",
       "1     ...              t  102              f     ?              f    ?   \n",
       "2     ...              t  109              t  0.91              t  120   \n",
       "3     ...              t  175              f     ?              f    ?   \n",
       "4     ...              t   61              t  0.87              t   70   \n",
       "...   ...            ...  ...            ...   ...            ...  ...   \n",
       "3767  ...              t  122              t  1.12              t  108   \n",
       "3768  ...              t   92              t  0.76              t  121   \n",
       "3769  ...              t  151              t  1.13              t  134   \n",
       "3770  ...              t   86              t  0.77              t  112   \n",
       "3771  ...              t   88              t  0.77              t  114   \n",
       "\n",
       "     'TBG measured' TBG 'referral source'     Class  \n",
       "0                 f   ?              SVHC  negative  \n",
       "1                 f   ?             other  negative  \n",
       "2                 f   ?             other  negative  \n",
       "3                 f   ?             other  negative  \n",
       "4                 f   ?               SVI  negative  \n",
       "...             ...  ..               ...       ...  \n",
       "3767              f   ?             other  negative  \n",
       "3768              f   ?             other  negative  \n",
       "3769              f   ?             other  negative  \n",
       "3770              f   ?             other  negative  \n",
       "3771              f   ?             other  negative  \n",
       "\n",
       "[3772 rows x 30 columns]"
      ]
     },
     "execution_count": 42,
     "metadata": {},
     "output_type": "execute_result"
    }
   ],
   "source": [
    "dataframe = pd.read_csv('../dataset/labor.csv', sep=';')\n",
    "dataframe"
   ]
  },
  {
   "cell_type": "markdown",
   "metadata": {},
   "source": [
    "**Tratamento de linhas que contenhaam o '?'**"
   ]
  },
  {
   "cell_type": "markdown",
   "metadata": {},
   "source": [
    "Vamos substituir todas as interrogações por 'NAN'"
   ]
  },
  {
   "cell_type": "code",
   "execution_count": 43,
   "metadata": {},
   "outputs": [],
   "source": [
    "import numpy as np\n",
    "# Substitui Nan por um caracter desejado\n",
    "dataframe.replace('?', np.nan, inplace = True) # inplace = True também altera na base, não só na memória"
   ]
  },
  {
   "cell_type": "markdown",
   "metadata": {},
   "source": [
    "**Converting objects data type into float 64 (only the com NaN)**"
   ]
  },
  {
   "cell_type": "code",
   "execution_count": 44,
   "metadata": {},
   "outputs": [],
   "source": [
    "#dataframe[\"age\"].astype(np.float)\n",
    "#dataframe[\"TT4\"].astype(np.float64)\n",
    "#dataframe[\"FTI\"].astype(np.float64)"
   ]
  },
  {
   "cell_type": "markdown",
   "metadata": {},
   "source": [
    "**Excluindo colunas -atributos- com mais de 85% de valores ausentes**"
   ]
  },
  {
   "cell_type": "code",
   "execution_count": 45,
   "metadata": {},
   "outputs": [],
   "source": [
    "limite = dataframe.shape[0]*0.85\n",
    "drop_columns = []\n",
    "quant_isnull = dataframe.isnull().sum()\n",
    "columns = dataframe.columns\n",
    "for q,c in zip(quant_isnull,columns):\n",
    "  if q >= limite :\n",
    "    drop_columns.append(c)"
   ]
  },
  {
   "cell_type": "code",
   "execution_count": 46,
   "metadata": {},
   "outputs": [
    {
     "name": "stdout",
     "output_type": "stream",
     "text": [
      "['age', 'sex', \"'on thyroxine'\", \"'query on thyroxine'\", \"'on antithyroid medication'\", 'sick', 'pregnant', \"'thyroid surgery'\", \"'I131 treatment'\", \"'query hypothyroid'\", \"query hyperthyroid'\", 'lithium', 'goitre', 'tumor', 'hypopituitary', 'psych', \"'TSH measured'\", 'TSH', \"'T3 measured'\", 'T3', \"'TT4 measured'\", 'TT4', \"'T4U measured'\", 'T4U', \"'FTI measured'\", 'FTI', \"'TBG measured'\", 'TBG', \"'referral source'\", 'Class']\n"
     ]
    }
   ],
   "source": [
    "# printing all columns of the dataframe\n",
    "print(dataframe.columns.tolist())"
   ]
  },
  {
   "cell_type": "code",
   "execution_count": 47,
   "metadata": {},
   "outputs": [
    {
     "data": {
      "text/plain": [
       "(3772, 27)"
      ]
     },
     "execution_count": 47,
     "metadata": {},
     "output_type": "execute_result"
    }
   ],
   "source": [
    "dataframe.drop(columns=drop_columns,inplace=True)\n",
    "# axis (eixo) = 1, pois 1 se refere às colunas\n",
    "dataframe.drop([\"\\'query hypothyroid\\'\"], axis=1, inplace=True) # coluna duplicada\n",
    "dataframe.drop([\"\\'TBG measured\\'\"], axis=1, inplace=True) # coluna com apenas um valor\n",
    "dataframe.shape"
   ]
  },
  {
   "cell_type": "markdown",
   "metadata": {},
   "source": [
    "**Excluindo linhas com 50% ou mais valores ausentes**"
   ]
  },
  {
   "cell_type": "code",
   "execution_count": 48,
   "metadata": {},
   "outputs": [
    {
     "data": {
      "text/plain": [
       "(3772, 27)"
      ]
     },
     "execution_count": 48,
     "metadata": {},
     "output_type": "execute_result"
    }
   ],
   "source": [
    "limite = dataframe.shape[1]*0.5\n",
    "dataframe.dropna(thresh=limite,inplace=True)\n",
    "dataframe.shape"
   ]
  },
  {
   "cell_type": "markdown",
   "metadata": {},
   "source": [
    "**Vamos verificar a quantidade de valores não NaN ?**"
   ]
  },
  {
   "cell_type": "code",
   "execution_count": 49,
   "metadata": {},
   "outputs": [
    {
     "data": {
      "text/plain": [
       "age                              1\n",
       "sex                            150\n",
       "'on thyroxine'                   0\n",
       "'query on thyroxine'             0\n",
       "'on antithyroid medication'      0\n",
       "sick                             0\n",
       "pregnant                         0\n",
       "'thyroid surgery'                0\n",
       "'I131 treatment'                 0\n",
       "query hyperthyroid'              0\n",
       "lithium                          0\n",
       "goitre                           0\n",
       "tumor                            0\n",
       "hypopituitary                    0\n",
       "psych                            0\n",
       "'TSH measured'                   0\n",
       "TSH                            369\n",
       "'T3 measured'                    0\n",
       "T3                             769\n",
       "'TT4 measured'                   0\n",
       "TT4                            231\n",
       "'T4U measured'                   0\n",
       "T4U                            387\n",
       "'FTI measured'                   0\n",
       "FTI                            385\n",
       "'referral source'                0\n",
       "Class                            0\n",
       "dtype: int64"
      ]
     },
     "execution_count": 49,
     "metadata": {},
     "output_type": "execute_result"
    }
   ],
   "source": [
    "dataframe.isnull().sum()"
   ]
  },
  {
   "cell_type": "markdown",
   "metadata": {},
   "source": [
    "**Verificar, em %, quantos dados NaN existem na coluna em relação ao total de linhas**"
   ]
  },
  {
   "cell_type": "markdown",
   "metadata": {},
   "source": [
    "Número de linhas NaN <br>\n",
    "______________________ * 100<br>\n",
    "Número total de linhas <br> <br>"
   ]
  },
  {
   "cell_type": "code",
   "execution_count": 50,
   "metadata": {},
   "outputs": [
    {
     "data": {
      "text/plain": [
       "age                             0.026511\n",
       "sex                             3.976670\n",
       "'on thyroxine'                  0.000000\n",
       "'query on thyroxine'            0.000000\n",
       "'on antithyroid medication'     0.000000\n",
       "sick                            0.000000\n",
       "pregnant                        0.000000\n",
       "'thyroid surgery'               0.000000\n",
       "'I131 treatment'                0.000000\n",
       "query hyperthyroid'             0.000000\n",
       "lithium                         0.000000\n",
       "goitre                          0.000000\n",
       "tumor                           0.000000\n",
       "hypopituitary                   0.000000\n",
       "psych                           0.000000\n",
       "'TSH measured'                  0.000000\n",
       "TSH                             9.782609\n",
       "'T3 measured'                   0.000000\n",
       "T3                             20.387063\n",
       "'TT4 measured'                  0.000000\n",
       "TT4                             6.124072\n",
       "'T4U measured'                  0.000000\n",
       "T4U                            10.259809\n",
       "'FTI measured'                  0.000000\n",
       "FTI                            10.206787\n",
       "'referral source'               0.000000\n",
       "Class                           0.000000\n",
       "dtype: float64"
      ]
     },
     "execution_count": 50,
     "metadata": {},
     "output_type": "execute_result"
    }
   ],
   "source": [
    "dataframe.isnull().sum()/dataframe.shape[0]*100"
   ]
  },
  {
   "cell_type": "code",
   "execution_count": 51,
   "metadata": {},
   "outputs": [
    {
     "data": {
      "text/plain": [
       "age                            object\n",
       "sex                            object\n",
       "'on thyroxine'                 object\n",
       "'query on thyroxine'           object\n",
       "'on antithyroid medication'    object\n",
       "sick                           object\n",
       "pregnant                       object\n",
       "'thyroid surgery'              object\n",
       "'I131 treatment'               object\n",
       "query hyperthyroid'            object\n",
       "lithium                        object\n",
       "goitre                         object\n",
       "tumor                          object\n",
       "hypopituitary                  object\n",
       "psych                          object\n",
       "'TSH measured'                 object\n",
       "TSH                            object\n",
       "'T3 measured'                  object\n",
       "T3                             object\n",
       "'TT4 measured'                 object\n",
       "TT4                            object\n",
       "'T4U measured'                 object\n",
       "T4U                            object\n",
       "'FTI measured'                 object\n",
       "FTI                            object\n",
       "'referral source'              object\n",
       "Class                          object\n",
       "dtype: object"
      ]
     },
     "execution_count": 51,
     "metadata": {},
     "output_type": "execute_result"
    }
   ],
   "source": [
    "dataframe.dtypes"
   ]
  },
  {
   "cell_type": "markdown",
   "metadata": {},
   "source": [
    "**Substituindo valores ausentes**"
   ]
  },
  {
   "cell_type": "markdown",
   "metadata": {},
   "source": [
    "Vamos imputar nos atributos do tipo object com valores de maior frequência"
   ]
  },
  {
   "cell_type": "code",
   "execution_count": 52,
   "metadata": {},
   "outputs": [
    {
     "data": {
      "text/plain": [
       "0.2     116\n",
       "1.3     105\n",
       "1.1      97\n",
       "1.4      91\n",
       "1.5      80\n",
       "       ... \n",
       "32        1\n",
       "126       1\n",
       "26.4      1\n",
       "178       1\n",
       "61        1\n",
       "Name: TSH, Length: 287, dtype: int64"
      ]
     },
     "execution_count": 52,
     "metadata": {},
     "output_type": "execute_result"
    }
   ],
   "source": [
    "dataframe['age'].value_counts()\n",
    "dataframe['sex'].value_counts()\n",
    "dataframe['T3'].value_counts()\n",
    "dataframe['TT4'].value_counts()\n",
    "dataframe['T4U'].value_counts()\n",
    "dataframe['FTI'].value_counts()\n",
    "dataframe['TSH'].value_counts()"
   ]
  },
  {
   "cell_type": "code",
   "execution_count": 53,
   "metadata": {},
   "outputs": [],
   "source": [
    "dataframe['age']= dataframe['age'].fillna('59')\n",
    "dataframe['sex']= dataframe['sex'].fillna('F')\n",
    "dataframe['T3']= dataframe['T3'].fillna('2')\n",
    "dataframe['TT4']= dataframe['TT4'].fillna('101')\n",
    "dataframe['T4U']= dataframe['T4U'].fillna('0.99')\n",
    "dataframe['FTI']= dataframe['FTI'].fillna('100')\n",
    "dataframe['TSH']= dataframe['TSH'].fillna('0.2')"
   ]
  },
  {
   "cell_type": "markdown",
   "metadata": {},
   "source": [
    "Vamos verificar se foi feita a alteração?"
   ]
  },
  {
   "cell_type": "code",
   "execution_count": 54,
   "metadata": {},
   "outputs": [
    {
     "data": {
      "text/plain": [
       "age                            0\n",
       "sex                            0\n",
       "'on thyroxine'                 0\n",
       "'query on thyroxine'           0\n",
       "'on antithyroid medication'    0\n",
       "sick                           0\n",
       "pregnant                       0\n",
       "'thyroid surgery'              0\n",
       "'I131 treatment'               0\n",
       "query hyperthyroid'            0\n",
       "lithium                        0\n",
       "goitre                         0\n",
       "tumor                          0\n",
       "hypopituitary                  0\n",
       "psych                          0\n",
       "'TSH measured'                 0\n",
       "TSH                            0\n",
       "'T3 measured'                  0\n",
       "T3                             0\n",
       "'TT4 measured'                 0\n",
       "TT4                            0\n",
       "'T4U measured'                 0\n",
       "T4U                            0\n",
       "'FTI measured'                 0\n",
       "FTI                            0\n",
       "'referral source'              0\n",
       "Class                          0\n",
       "dtype: int64"
      ]
     },
     "execution_count": 54,
     "metadata": {},
     "output_type": "execute_result"
    }
   ],
   "source": [
    "dataframe.isnull().sum()"
   ]
  },
  {
   "cell_type": "markdown",
   "metadata": {},
   "source": [
    "**Contando e visualizando a quantidade de valores que temos em cada atributo**"
   ]
  },
  {
   "cell_type": "code",
   "execution_count": 55,
   "metadata": {},
   "outputs": [
    {
     "data": {
      "text/plain": [
       "(93, 287, 69, 146, 234)"
      ]
     },
     "execution_count": 55,
     "metadata": {},
     "output_type": "execute_result"
    }
   ],
   "source": [
    "len(np.unique(dataframe['age'])), len(np.unique(dataframe['TSH'])), len(np.unique(dataframe['T3'])), len(np.unique(dataframe['T4U'])), len(np.unique(dataframe['FTI']))"
   ]
  },
  {
   "cell_type": "code",
   "execution_count": 56,
   "metadata": {},
   "outputs": [
    {
     "data": {
      "text/plain": [
       "((array(['1', '10', '11', '12', '13', '14', '15', '16', '17', '18', '19',\n",
       "         '2', '20', '21', '22', '23', '24', '25', '26', '27', '28', '29',\n",
       "         '30', '31', '32', '33', '34', '35', '36', '37', '38', '39', '4',\n",
       "         '40', '41', '42', '43', '44', '45', '455', '46', '47', '48', '49',\n",
       "         '5', '50', '51', '52', '53', '54', '55', '56', '57', '58', '59',\n",
       "         '6', '60', '61', '62', '63', '64', '65', '66', '67', '68', '69',\n",
       "         '7', '70', '71', '72', '73', '74', '75', '76', '77', '78', '79',\n",
       "         '8', '80', '81', '82', '83', '84', '85', '86', '87', '88', '89',\n",
       "         '90', '91', '92', '93', '94'], dtype=object),\n",
       "  array([ 6,  1,  4,  4,  7, 12, 21, 22, 14, 29, 41,  4, 27, 34, 35, 45, 33,\n",
       "         53, 49, 50, 61, 55, 40, 41, 44, 46, 67, 59, 51, 64, 61, 56,  1, 40,\n",
       "         53, 49, 36, 44, 50,  1, 48, 51, 54, 54,  1, 53, 45, 51, 64, 63, 81,\n",
       "         67, 64, 77, 96,  1, 91, 74, 75, 78, 63, 73, 50, 61, 73, 58,  5, 90,\n",
       "         63, 77, 81, 56, 60, 45, 46, 50, 37,  3, 26, 17, 17, 35, 25, 15,  6,\n",
       "         12,  9,  8,  5,  2,  2,  2,  2], dtype=int64)),\n",
       " <AxesSubplot:xlabel='age', ylabel='count'>)"
      ]
     },
     "execution_count": 56,
     "metadata": {},
     "output_type": "execute_result"
    },
    {
     "data": {
      "image/png": "[encoded data removed]",
      "text/plain": [
       "<Figure size 640x480 with 1 Axes>"
      ]
     },
     "metadata": {},
     "output_type": "display_data"
    }
   ],
   "source": [
    "import seaborn as sns\n",
    "np.unique(dataframe['age'], return_counts = True), sns.countplot(x = dataframe['age'])"
   ]
  },
  {
   "cell_type": "markdown",
   "metadata": {},
   "source": [
    "**Contando quantidade de instâncias**"
   ]
  },
  {
   "cell_type": "code",
   "execution_count": 57,
   "metadata": {},
   "outputs": [
    {
     "data": {
      "text/plain": [
       "(array(['compensated_hypothyroid', 'negative', 'primary_hypothyroid',\n",
       "        'secondary_hypothyroid'], dtype=object),\n",
       " array([ 194, 3481,   95,    2], dtype=int64))"
      ]
     },
     "execution_count": 57,
     "metadata": {},
     "output_type": "execute_result"
    }
   ],
   "source": [
    "np.unique(dataframe['Class'], return_counts=True) "
   ]
  },
  {
   "cell_type": "markdown",
   "metadata": {},
   "source": [
    "**Visualizando a quantidade de instâncias da classe**"
   ]
  },
  {
   "cell_type": "code",
   "execution_count": 58,
   "metadata": {},
   "outputs": [
    {
     "data": {
      "text/plain": [
       "<AxesSubplot:xlabel='Class', ylabel='count'>"
      ]
     },
     "execution_count": 58,
     "metadata": {},
     "output_type": "execute_result"
    },
    {
     "data": {
      "image/png": "[encoded data removed]",
      "text/plain": [
       "<Figure size 640x480 with 1 Axes>"
      ]
     },
     "metadata": {},
     "output_type": "display_data"
    }
   ],
   "source": [
    "# A classe 'negative' é a classe majoritária\n",
    "sns.countplot(x = dataframe['Class']) # base desbalanceada"
   ]
  },
  {
   "cell_type": "markdown",
   "metadata": {},
   "source": [
    "Separando os atributos de entrada e de classe"
   ]
  },
  {
   "cell_type": "code",
   "execution_count": 59,
   "metadata": {},
   "outputs": [],
   "source": [
    "X_prev = dataframe.iloc[:,0:28].values"
   ]
  },
  {
   "cell_type": "markdown",
   "metadata": {},
   "source": [
    "Target values - Class attribute"
   ]
  },
  {
   "cell_type": "code",
   "execution_count": 60,
   "metadata": {},
   "outputs": [],
   "source": [
    "y_class = dataframe.iloc[:,26].values"
   ]
  },
  {
   "cell_type": "markdown",
   "metadata": {},
   "source": [
    "Tratamento de dados categóricos (strings)"
   ]
  },
  {
   "cell_type": "code",
   "execution_count": 61,
   "metadata": {},
   "outputs": [],
   "source": [
    "from sklearn.preprocessing import LabelEncoder\n",
    "label_encoder = LabelEncoder()"
   ]
  },
  {
   "cell_type": "markdown",
   "metadata": {},
   "source": [
    "Binarizando atributos nominais com duas opções de resposta"
   ]
  },
  {
   "cell_type": "code",
   "execution_count": 62,
   "metadata": {},
   "outputs": [],
   "source": [
    "label_encoder_Sex = LabelEncoder()\n",
    "label_encoder_OnThyroxine = LabelEncoder()\n",
    "label_encoder_QueryOnThyroxine = LabelEncoder()\n",
    "label_encoder_OnAntithyroidMedication = LabelEncoder()\n",
    "label_encoder_Sick = LabelEncoder()\n",
    "label_encoder_Pregnant = LabelEncoder()\n",
    "label_encoder_ThyroidSurgery = LabelEncoder()\n",
    "label_encoder_I131Treatment = LabelEncoder()\n",
    "label_encoder_QueryHypothyroid = LabelEncoder()\n",
    "label_encoder_Lithium = LabelEncoder()\n",
    "label_encoder_Goitre = LabelEncoder()\n",
    "label_encoder_Tumor = LabelEncoder()\n",
    "label_encoder_Hypopituitary = LabelEncoder()\n",
    "label_encoder_Psych = LabelEncoder()\n",
    "label_encoder_TSHMeasured = LabelEncoder()\n",
    "label_encoder_T3Measured = LabelEncoder()\n",
    "label_encoder_TT4Measured = LabelEncoder()\n",
    "label_encoder_T4UMeasured = LabelEncoder()\n",
    "label_encoder_FTIMeasured = LabelEncoder()\n"
   ]
  },
  {
   "cell_type": "code",
   "execution_count": 63,
   "metadata": {},
   "outputs": [],
   "source": [
    "X_prev[:,4] = label_encoder_Sex.fit_transform(X_prev[:,4])\n",
    "X_prev[:,6] = label_encoder_OnThyroxine.fit_transform(X_prev[:,6])\n",
    "X_prev[:,8] = label_encoder_QueryOnThyroxine.fit_transform(X_prev[:,8])\n",
    "X_prev[:,4] = label_encoder_OnAntithyroidMedication.fit_transform(X_prev[:,4])\n",
    "X_prev[:,6] = label_encoder_Sick.fit_transform(X_prev[:,6])\n",
    "X_prev[:,8] = label_encoder_Pregnant.fit_transform(X_prev[:,8])\n",
    "X_prev[:,4] = label_encoder_ThyroidSurgery.fit_transform(X_prev[:,4])\n",
    "X_prev[:,6] = label_encoder_I131Treatment.fit_transform(X_prev[:,6])\n",
    "X_prev[:,8] = label_encoder_QueryHypothyroid.fit_transform(X_prev[:,8])\n",
    "X_prev[:,4] = label_encoder_Lithium.fit_transform(X_prev[:,4])\n",
    "X_prev[:,6] = label_encoder_Goitre.fit_transform(X_prev[:,6])\n",
    "X_prev[:,8] = label_encoder_Tumor.fit_transform(X_prev[:,8])\n",
    "X_prev[:,8] = label_encoder_Hypopituitary.fit_transform(X_prev[:,8])\n",
    "X_prev[:,8] = label_encoder_Psych.fit_transform(X_prev[:,8])\n",
    "X_prev[:,8] = label_encoder_TSHMeasured.fit_transform(X_prev[:,8])\n",
    "X_prev[:,8] = label_encoder_T3Measured.fit_transform(X_prev[:,8])\n",
    "X_prev[:,8] = label_encoder_TT4Measured.fit_transform(X_prev[:,8])\n",
    "X_prev[:,8] = label_encoder_T4UMeasured.fit_transform(X_prev[:,8])\n",
    "X_prev[:,8] = label_encoder_FTIMeasured.fit_transform(X_prev[:,8])"
   ]
  }
 ],
 "metadata": {
  "kernelspec": {
   "display_name": "Python 3.10.6 64-bit",
   "language": "python",
   "name": "python3"
  },
  "language_info": {
   "codemirror_mode": {
    "name": "ipython",
    "version": 3
   },
   "file_extension": ".py",
   "mimetype": "text/x-python",
   "name": "python",
   "nbconvert_exporter": "python",
   "pygments_lexer": "ipython3",
   "version": "3.10.6"
  },
  "orig_nbformat": 4,
  "vscode": {
   "interpreter": {
    "hash": "afb734500600fd355917ca529030176ea0ca205570884b88f2f6f7d791fd3fbe"
   }
  }
 },
 "nbformat": 4,
 "nbformat_minor": 2
}
