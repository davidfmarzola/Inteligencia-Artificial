{
  "nbformat": 4,
  "nbformat_minor": 0,
  "metadata": {
    "colab": {
      "provenance": [],
      "collapsed_sections": []
    },
    "kernelspec": {
      "name": "python3",
      "display_name": "Python 3"
    },
    "language_info": {
      "name": "python"
    }
  },
  "cells": [
    {
      "cell_type": "markdown",
      "source": [
        "**Atualizando a biblioteca para plotagem de gráficos**"
      ],
      "metadata": {
        "id": "RzEQE1Q4i2B4"
      }
    },
    {
      "cell_type": "code",
      "source": [
        "!pip -q install plotly --upgrade"
      ],
      "metadata": {
        "id": "4UKEgIDHqLoP",
        "colab": {
          "base_uri": "https://localhost:8080/"
        },
        "outputId": "50d3e3ce-31c9-435f-f707-c6058fb29b01"
      },
      "execution_count": 1,
      "outputs": [
        {
          "output_type": "stream",
          "name": "stdout",
          "text": [
            "\u001b[K     |████████████████████████████████| 15.2 MB 5.4 MB/s \n",
            "\u001b[?25h"
          ]
        }
      ]
    },
    {
      "cell_type": "markdown",
      "source": [
        "**Importando bibliotecas**"
      ],
      "metadata": {
        "id": "U0K1DksPi9Uw"
      }
    },
    {
      "cell_type": "code",
      "execution_count": 2,
      "metadata": {
        "id": "nWRr2sPEldEw"
      },
      "outputs": [],
      "source": [
        "import pandas as pd\n",
        "import numpy as np\n",
        "import seaborn as sns\n",
        "import matplotlib.pyplot as plt\n",
        "import plotly.express as px"
      ]
    },
    {
      "cell_type": "markdown",
      "source": [
        "**Abrindo um arquivo CSV do drive**"
      ],
      "metadata": {
        "id": "QDr71C7ijA-A"
      }
    },
    {
      "cell_type": "code",
      "source": [
        "base_tenis = pd.read_csv('/content/PlayTennis.csv', sep=',')"
      ],
      "metadata": {
        "id": "glNOb5UwpSYh"
      },
      "execution_count": 3,
      "outputs": []
    },
    {
      "cell_type": "code",
      "source": [
        "base_tenis"
      ],
      "metadata": {
        "id": "sejUXKSVjYYv"
      },
      "execution_count": null,
      "outputs": []
    },
    {
      "cell_type": "markdown",
      "source": [
        "**Contando a quantidade de instâncias do atributo alvo \"play\"**"
      ],
      "metadata": {
        "id": "c8Ki4ohnjzHV"
      }
    },
    {
      "cell_type": "code",
      "source": [
        "np.unique(base_tenis['play'], return_counts=True)"
      ],
      "metadata": {
        "id": "uYIq3W_wj31U"
      },
      "execution_count": null,
      "outputs": []
    },
    {
      "cell_type": "code",
      "source": [
        "sns.countplot(x = base_tenis['play']);"
      ],
      "metadata": {
        "id": "lek4rrgskegr"
      },
      "execution_count": null,
      "outputs": []
    },
    {
      "cell_type": "markdown",
      "source": [
        "**Separando os atributos de entrada e de classe**"
      ],
      "metadata": {
        "id": "Faew52AVklZc"
      }
    },
    {
      "cell_type": "code",
      "source": [
        "x_prev = base_tenis.iloc[:, 0:4].values"
      ],
      "metadata": {
        "id": "YnjT1grekrAT"
      },
      "execution_count": 8,
      "outputs": []
    },
    {
      "cell_type": "code",
      "source": [
        "x_prev"
      ],
      "metadata": {
        "id": "7GjCNs5Uk5Nx"
      },
      "execution_count": null,
      "outputs": []
    },
    {
      "cell_type": "code",
      "source": [
        "x_prev_label = base_tenis.iloc[:, 0:4]"
      ],
      "metadata": {
        "id": "DvYUFAVck9KJ"
      },
      "execution_count": 10,
      "outputs": []
    },
    {
      "cell_type": "code",
      "source": [
        "x_prev_label"
      ],
      "metadata": {
        "id": "A5dWN8VqlDRR"
      },
      "execution_count": null,
      "outputs": []
    },
    {
      "cell_type": "code",
      "source": [
        "x_prev[:,2]"
      ],
      "metadata": {
        "id": "HL3tAtz3lWAI"
      },
      "execution_count": null,
      "outputs": []
    },
    {
      "cell_type": "code",
      "source": [
        "y_classe = base_tenis.iloc[:,4].values"
      ],
      "metadata": {
        "id": "OoXFLLEVrAnA"
      },
      "execution_count": 13,
      "outputs": []
    },
    {
      "cell_type": "code",
      "source": [
        "y_classe"
      ],
      "metadata": {
        "id": "dHXJnBbFsxWy",
        "colab": {
          "base_uri": "https://localhost:8080/"
        },
        "outputId": "0fea215e-9c9f-486c-ac88-4ecda516d334"
      },
      "execution_count": 14,
      "outputs": [
        {
          "output_type": "execute_result",
          "data": {
            "text/plain": [
              "array(['no', 'no', 'yes', 'yes', 'yes', 'no', 'yes', 'no', 'yes', 'yes',\n",
              "       'yes', 'yes', 'yes', 'no'], dtype=object)"
            ]
          },
          "metadata": {},
          "execution_count": 14
        }
      ]
    },
    {
      "cell_type": "markdown",
      "source": [
        "**Tratamento de dados categóricos**"
      ],
      "metadata": {
        "id": "LYobUgJgr4W-"
      }
    },
    {
      "cell_type": "markdown",
      "source": [
        "| LabelEncoder - Vamos tratar os dados categóricos colocando 1, 2, 3 e etc*"
      ],
      "metadata": {
        "id": "5Teu37HCsJbl"
      }
    },
    {
      "cell_type": "code",
      "source": [
        "from sklearn.preprocessing import LabelEncoder"
      ],
      "metadata": {
        "id": "II1T-OGrsCrV"
      },
      "execution_count": 16,
      "outputs": []
    },
    {
      "cell_type": "code",
      "source": [
        "label_encoder = LabelEncoder()"
      ],
      "metadata": {
        "id": "xrIKCgvNsWlP"
      },
      "execution_count": 17,
      "outputs": []
    },
    {
      "cell_type": "code",
      "source": [
        "x_prev[:,0]"
      ],
      "metadata": {
        "id": "jyJpQVlEsa_f",
        "colab": {
          "base_uri": "https://localhost:8080/"
        },
        "outputId": "d1dbfbb5-5d5d-4884-a22f-9110bffc7d69"
      },
      "execution_count": 18,
      "outputs": [
        {
          "output_type": "execute_result",
          "data": {
            "text/plain": [
              "array(['sunny', 'sunny', 'overcast', 'rainy', 'rainy', 'rainy',\n",
              "       'overcast', 'sunny', 'sunny', 'rainy', 'sunny', 'overcast',\n",
              "       'overcast', 'rainy'], dtype=object)"
            ]
          },
          "metadata": {},
          "execution_count": 18
        }
      ]
    },
    {
      "cell_type": "code",
      "source": [
        "x_prev"
      ],
      "metadata": {
        "id": "Vg0AXQwLsbEM"
      },
      "execution_count": null,
      "outputs": []
    },
    {
      "cell_type": "markdown",
      "source": [
        "**Binarizando atributos nominais**"
      ],
      "metadata": {
        "id": "ewXXLfSkweT-"
      }
    },
    {
      "cell_type": "code",
      "source": [
        "label_encoder_Humidity = LabelEncoder()\n",
        "label_encoder_Windy = LabelEncoder()"
      ],
      "metadata": {
        "id": "y8RM3RdMs3oT"
      },
      "execution_count": 20,
      "outputs": []
    },
    {
      "cell_type": "code",
      "source": [
        "x_prev[:,2] = label_encoder_Humidity.fit_transform(x_prev[:,2])\n",
        "x_prev[:,3] = label_encoder_Windy.fit_transform(x_prev[:,3])"
      ],
      "metadata": {
        "id": "qegqtzbGupH8"
      },
      "execution_count": 21,
      "outputs": []
    },
    {
      "cell_type": "code",
      "source": [
        "x_prev"
      ],
      "metadata": {
        "id": "ci13HkjuwNx2"
      },
      "execution_count": null,
      "outputs": []
    },
    {
      "cell_type": "markdown",
      "source": [
        "# **Segunda forma de binarizar**"
      ],
      "metadata": {
        "id": "W6mQ5b5CxF_L"
      }
    },
    {
      "cell_type": "markdown",
      "source": [
        "| OneHotEncoder - Agora vamos binarizar atributos não ordinais"
      ],
      "metadata": {
        "id": "UumjWoq_xN0K"
      }
    },
    {
      "cell_type": "markdown",
      "source": [
        "**Contando quantas opções de resposta tem cada atributo**"
      ],
      "metadata": {
        "id": "J0SduhEIxvpo"
      }
    },
    {
      "cell_type": "code",
      "source": [
        "len(np.unique(base_tenis['outlook']))"
      ],
      "metadata": {
        "id": "irGfBaBFx10g",
        "colab": {
          "base_uri": "https://localhost:8080/"
        },
        "outputId": "ffe38e53-1ba4-48dd-f545-b9f2bac55da5"
      },
      "execution_count": 22,
      "outputs": [
        {
          "output_type": "execute_result",
          "data": {
            "text/plain": [
              "3"
            ]
          },
          "metadata": {},
          "execution_count": 22
        }
      ]
    },
    {
      "cell_type": "markdown",
      "source": [
        "**importing libraries**"
      ],
      "metadata": {
        "id": "HvXT7mjbyEiY"
      }
    },
    {
      "cell_type": "code",
      "source": [
        "from sklearn.preprocessing import OneHotEncoder\n",
        "from sklearn.compose import ColumnTransformer"
      ],
      "metadata": {
        "id": "WvI9Bc1yyJgX"
      },
      "execution_count": 23,
      "outputs": []
    },
    {
      "cell_type": "code",
      "source": [
        "x_prev"
      ],
      "metadata": {
        "id": "yykRfGO-6ffg"
      },
      "execution_count": null,
      "outputs": []
    },
    {
      "cell_type": "code",
      "source": [
        "onehotencoder_tenis = ColumnTransformer(transformers=[('OneHot', OneHotEncoder(), [0,1])], remainder=\"passthrough\")"
      ],
      "metadata": {
        "id": "hpnAQDEo6jz7"
      },
      "execution_count": 24,
      "outputs": []
    },
    {
      "cell_type": "code",
      "source": [
        "x_prev = onehotencoder_tenis.fit_transform(x_prev)"
      ],
      "metadata": {
        "id": "56q5BuYw68u8"
      },
      "execution_count": 25,
      "outputs": []
    },
    {
      "cell_type": "code",
      "source": [
        "x_prev"
      ],
      "metadata": {
        "id": "iJ98ZfgV7MVS"
      },
      "execution_count": null,
      "outputs": []
    },
    {
      "cell_type": "markdown",
      "source": [
        "| Mostrando o número de opções de resposta"
      ],
      "metadata": {
        "id": "Hzi2tLgX7vPb"
      }
    },
    {
      "cell_type": "code",
      "source": [
        "x_prev.shape"
      ],
      "metadata": {
        "id": "tnZQpXP_7O35"
      },
      "execution_count": null,
      "outputs": []
    },
    {
      "cell_type": "markdown",
      "source": [
        "**Método de amostragem Holdout**"
      ],
      "metadata": {
        "id": "E1RM7SdS9K_9"
      }
    },
    {
      "cell_type": "code",
      "source": [
        "from sklearn.model_selection import train_test_split"
      ],
      "metadata": {
        "id": "jjklhXey9Nf6"
      },
      "execution_count": 26,
      "outputs": []
    },
    {
      "cell_type": "markdown",
      "source": [
        "| Conjunto de atributos de entrada"
      ],
      "metadata": {
        "id": "1LVCKc0c8Y5Z"
      }
    },
    {
      "cell_type": "code",
      "source": [
        "x_prev"
      ],
      "metadata": {
        "id": "9RO9iaG89Xax"
      },
      "execution_count": null,
      "outputs": []
    },
    {
      "cell_type": "markdown",
      "source": [
        "| Classe das minhas instâncias"
      ],
      "metadata": {
        "id": "-LZAd7cO8TfB"
      }
    },
    {
      "cell_type": "code",
      "source": [
        "y_classe"
      ],
      "metadata": {
        "id": "y8FujWMm8SGh"
      },
      "execution_count": null,
      "outputs": []
    },
    {
      "cell_type": "code",
      "source": [
        "y_classe.shape"
      ],
      "metadata": {
        "id": "oUSlrtNm8ohH"
      },
      "execution_count": null,
      "outputs": []
    },
    {
      "cell_type": "markdown",
      "source": [
        "| Vamos dividir os dados no conjunto de treinamento e teste no intervalo de 80:20"
      ],
      "metadata": {
        "id": "wHSSj0iWQTN6"
      }
    },
    {
      "cell_type": "code",
      "source": [
        "x_treino, x_teste, y_treino, y_teste = train_test_split(x_prev, y_classe, test_size = 0.20, random_state = 0)"
      ],
      "metadata": {
        "id": "wnoM2UWT9rIu"
      },
      "execution_count": 27,
      "outputs": []
    },
    {
      "cell_type": "code",
      "source": [
        "x_treino.shape"
      ],
      "metadata": {
        "id": "U0ct2nDl94Fz",
        "colab": {
          "base_uri": "https://localhost:8080/"
        },
        "outputId": "71f57d90-e9f6-4c22-9233-d213f61ea75d"
      },
      "execution_count": null,
      "outputs": [
        {
          "output_type": "execute_result",
          "data": {
            "text/plain": [
              "(11, 8)"
            ]
          },
          "metadata": {},
          "execution_count": 46
        }
      ]
    },
    {
      "cell_type": "code",
      "source": [
        "x_teste"
      ],
      "metadata": {
        "id": "o-eZ-XU697jb"
      },
      "execution_count": null,
      "outputs": []
    },
    {
      "cell_type": "code",
      "source": [
        "y_treino"
      ],
      "metadata": {
        "id": "AYApkErl_GHa",
        "colab": {
          "base_uri": "https://localhost:8080/"
        },
        "outputId": "7c8aa4c0-570b-4a82-c099-bb148d92464f"
      },
      "execution_count": null,
      "outputs": [
        {
          "output_type": "execute_result",
          "data": {
            "text/plain": [
              "array(['yes', 'yes', 'no', 'yes', 'no', 'no', 'yes', 'yes', 'no', 'no',\n",
              "       'yes'], dtype=object)"
            ]
          },
          "metadata": {},
          "execution_count": 48
        }
      ]
    },
    {
      "cell_type": "code",
      "source": [
        "y_teste"
      ],
      "metadata": {
        "id": "124rUhbT_H6n",
        "colab": {
          "base_uri": "https://localhost:8080/"
        },
        "outputId": "247808c8-85d2-410b-a58f-553da3c4b133"
      },
      "execution_count": null,
      "outputs": [
        {
          "output_type": "execute_result",
          "data": {
            "text/plain": [
              "array(['yes', 'yes', 'yes'], dtype=object)"
            ]
          },
          "metadata": {},
          "execution_count": 49
        }
      ]
    },
    {
      "cell_type": "code",
      "source": [
        "import pickle"
      ],
      "metadata": {
        "id": "eQmJcOGN_JTw"
      },
      "execution_count": 28,
      "outputs": []
    },
    {
      "cell_type": "code",
      "source": [
        "with open('/content/sample_data/tenis.pkl', mode = 'wb') as f:\n",
        "  pickle.dump([x_treino, x_teste, y_treino, y_teste], f)"
      ],
      "metadata": {
        "id": "nF0f_ZrS_JZg"
      },
      "execution_count": 29,
      "outputs": []
    }
  ]
}