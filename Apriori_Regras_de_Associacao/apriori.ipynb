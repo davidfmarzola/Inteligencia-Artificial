{
 "cells": [
  {
   "cell_type": "markdown",
   "metadata": {},
   "source": [
    "**Importing Libraries**"
   ]
  },
  {
   "cell_type": "code",
   "execution_count": 24,
   "metadata": {},
   "outputs": [],
   "source": [
    "from apyori import apriori\n",
    "import pandas as pd"
   ]
  },
  {
   "cell_type": "markdown",
   "metadata": {},
   "source": [
    "**Reading and printing the CSV**"
   ]
  },
  {
   "cell_type": "code",
   "execution_count": 25,
   "metadata": {},
   "outputs": [
    {
     "data": {
      "text/html": [
       "<div>\n",
       "<style scoped>\n",
       "    .dataframe tbody tr th:only-of-type {\n",
       "        vertical-align: middle;\n",
       "    }\n",
       "\n",
       "    .dataframe tbody tr th {\n",
       "        vertical-align: top;\n",
       "    }\n",
       "\n",
       "    .dataframe thead th {\n",
       "        text-align: right;\n",
       "    }\n",
       "</style>\n",
       "<table border=\"1\" class=\"dataframe\">\n",
       "  <thead>\n",
       "    <tr style=\"text-align: right;\">\n",
       "      <th></th>\n",
       "      <th>dia</th>\n",
       "      <th>horario</th>\n",
       "      <th>tipo_de_encomenda</th>\n",
       "      <th>possui borda</th>\n",
       "      <th>refrigerante</th>\n",
       "      <th>valor</th>\n",
       "      <th>tempo_de_espera</th>\n",
       "    </tr>\n",
       "  </thead>\n",
       "  <tbody>\n",
       "    <tr>\n",
       "      <th>0</th>\n",
       "      <td>sexta</td>\n",
       "      <td>inicio</td>\n",
       "      <td>buscar</td>\n",
       "      <td>nao</td>\n",
       "      <td>coca-cola</td>\n",
       "      <td>30-34</td>\n",
       "      <td>22-33</td>\n",
       "    </tr>\n",
       "    <tr>\n",
       "      <th>1</th>\n",
       "      <td>sexta</td>\n",
       "      <td>inicio</td>\n",
       "      <td>buscar</td>\n",
       "      <td>nao</td>\n",
       "      <td>coca-cola</td>\n",
       "      <td>30-34</td>\n",
       "      <td>33-44</td>\n",
       "    </tr>\n",
       "    <tr>\n",
       "      <th>2</th>\n",
       "      <td>sexta</td>\n",
       "      <td>inicio</td>\n",
       "      <td>buscar</td>\n",
       "      <td>nao</td>\n",
       "      <td>coca-cola</td>\n",
       "      <td>26-30</td>\n",
       "      <td>33-44</td>\n",
       "    </tr>\n",
       "    <tr>\n",
       "      <th>3</th>\n",
       "      <td>sexta</td>\n",
       "      <td>inicio</td>\n",
       "      <td>buscar</td>\n",
       "      <td>nao</td>\n",
       "      <td>coca-cola</td>\n",
       "      <td>30-34</td>\n",
       "      <td>33-44</td>\n",
       "    </tr>\n",
       "    <tr>\n",
       "      <th>4</th>\n",
       "      <td>sexta</td>\n",
       "      <td>inicio</td>\n",
       "      <td>buscar</td>\n",
       "      <td>nao</td>\n",
       "      <td>coca-cola</td>\n",
       "      <td>30-34</td>\n",
       "      <td>22-33</td>\n",
       "    </tr>\n",
       "  </tbody>\n",
       "</table>\n",
       "</div>"
      ],
      "text/plain": [
       "     dia horario tipo_de_encomenda possui borda refrigerante   valor  \\\n",
       "0  sexta  inicio            buscar          nao    coca-cola   30-34   \n",
       "1  sexta  inicio            buscar          nao    coca-cola   30-34   \n",
       "2  sexta  inicio            buscar          nao    coca-cola   26-30   \n",
       "3  sexta  inicio            buscar          nao    coca-cola   30-34   \n",
       "4  sexta  inicio            buscar          nao    coca-cola   30-34   \n",
       "\n",
       "  tempo_de_espera  \n",
       "0          22-33   \n",
       "1          33-44   \n",
       "2          33-44   \n",
       "3          33-44   \n",
       "4          22-33   "
      ]
     },
     "execution_count": 25,
     "metadata": {},
     "output_type": "execute_result"
    }
   ],
   "source": [
    "MAX_RULES = 8\n",
    "\n",
    "dataframe = pd.read_csv('pizzaria.csv', sep = ';')\n",
    "dataframe.head()"
   ]
  },
  {
   "cell_type": "code",
   "execution_count": 26,
   "metadata": {},
   "outputs": [
    {
     "data": {
      "text/plain": [
       "(2244, 7)"
      ]
     },
     "execution_count": 26,
     "metadata": {},
     "output_type": "execute_result"
    }
   ],
   "source": [
    "dataframe.shape"
   ]
  },
  {
   "cell_type": "markdown",
   "metadata": {},
   "source": [
    "**Visualizing the data**"
   ]
  },
  {
   "cell_type": "code",
   "execution_count": 27,
   "metadata": {},
   "outputs": [
    {
     "data": {
      "text/plain": [
       "<AxesSubplot: xlabel='tempo_de_espera', ylabel='count'>"
      ]
     },
     "execution_count": 27,
     "metadata": {},
     "output_type": "execute_result"
    },
    {
     "data": {
      "image/png": "[encoded data removed]",
      "text/plain": [
       "<Figure size 640x480 with 1 Axes>"
      ]
     },
     "metadata": {},
     "output_type": "display_data"
    }
   ],
   "source": [
    "import seaborn as sns\n",
    "sns.countplot(x = dataframe['tempo_de_espera'])"
   ]
  },
  {
   "cell_type": "markdown",
   "metadata": {},
   "source": [
    "**Substituindo valor no formato de data**"
   ]
  },
  {
   "cell_type": "code",
   "execution_count": 28,
   "metadata": {},
   "outputs": [
    {
     "data": {
      "text/plain": [
       "<AxesSubplot: xlabel='tempo_de_espera', ylabel='count'>"
      ]
     },
     "execution_count": 28,
     "metadata": {},
     "output_type": "execute_result"
    },
    {
     "data": {
      "image/png": "[encoded data removed]",
      "text/plain": [
       "<Figure size 640x480 with 1 Axes>"
      ]
     },
     "metadata": {},
     "output_type": "display_data"
    }
   ],
   "source": [
    "import numpy as np\n",
    "dataframe.replace('out/22', '10-22', inplace = True) # inplace = True também altera na base, não só na memória\n",
    "sns.countplot(x = dataframe['tempo_de_espera'])"
   ]
  },
  {
   "cell_type": "markdown",
   "metadata": {},
   "source": [
    "**Colocando os valores num vetor de segunda dimensão - cada instância armazenada numa posição do vetor**"
   ]
  },
  {
   "cell_type": "code",
   "execution_count": 29,
   "metadata": {},
   "outputs": [
    {
     "name": "stdout",
     "output_type": "stream",
     "text": [
      "['sexta', 'inicio', 'buscar', 'nao', 'coca-cola', ' 30-34', '22-33 ']\n",
      "['sexta', 'inicio', 'buscar', 'nao', 'coca-cola', ' 30-34', '33-44 ']\n",
      "['sexta', 'inicio', 'buscar', 'nao', 'coca-cola', ' 26-30', '33-44 ']\n",
      "['sexta', 'inicio', 'buscar', 'nao', 'coca-cola', ' 30-34', '33-44 ']\n",
      "['sexta', 'inicio', 'buscar', 'nao', 'coca-cola', ' 30-34', '22-33 ']\n"
     ]
    }
   ],
   "source": [
    "transacoes = []\n",
    "\n",
    "for t in dataframe.values:\n",
    "    transacoes.append([str(item) for item in t])\n",
    "    \n",
    "for x in range(5):\n",
    "    print(transacoes[x])"
   ]
  },
  {
   "cell_type": "markdown",
   "metadata": {},
   "source": [
    "**Cada 'RelationRecord' ou 'frozenset' é uma regra**"
   ]
  },
  {
   "cell_type": "code",
   "execution_count": 30,
   "metadata": {},
   "outputs": [
    {
     "name": "stdout",
     "output_type": "stream",
     "text": [
      "[RelationRecord(items=frozenset({'guarana', ' 34-38'}), support=0.05525846702317291, ordered_statistics=[OrderedStatistic(items_base=frozenset({' 34-38'}), items_add=frozenset({'guarana'}), confidence=0.32124352331606215, lift=1.815794625494316), OrderedStatistic(items_base=frozenset({'guarana'}), items_add=frozenset({' 34-38'}), confidence=0.3123425692695214, lift=1.815794625494316)]), RelationRecord(items=frozenset({'22-33 ', 'fim'}), support=0.05124777183600713, ordered_statistics=[OrderedStatistic(items_base=frozenset({'22-33 '}), items_add=frozenset({'fim'}), confidence=0.279126213592233, lift=1.5277054226852949), OrderedStatistic(items_base=frozenset({'fim'}), items_add=frozenset({'22-33 '}), confidence=0.28048780487804875, lift=1.5277054226852946)]), RelationRecord(items=frozenset({'buscar', 'coca-cola', ' 18-22'}), support=0.04679144385026738, ordered_statistics=[OrderedStatistic(items_base=frozenset({' 18-22'}), items_add=frozenset({'buscar', 'coca-cola'}), confidence=0.544041450777202, lift=1.5146761979454606), OrderedStatistic(items_base=frozenset({'buscar', 'coca-cola'}), items_add=frozenset({' 18-22'}), confidence=0.13027295285359802, lift=1.5146761979454608)]), RelationRecord(items=frozenset({'buscar', 'nao', ' 18-22'}), support=0.04723707664884135, ordered_statistics=[OrderedStatistic(items_base=frozenset({' 18-22'}), items_add=frozenset({'buscar', 'nao'}), confidence=0.5492227979274611, lift=1.504830230218831), OrderedStatistic(items_base=frozenset({'buscar', 'nao'}), items_add=frozenset({' 18-22'}), confidence=0.1294261294261294, lift=1.504830230218831)]), RelationRecord(items=frozenset({'sim', 'coca-cola', ' 30-34'}), support=0.0481283422459893, ordered_statistics=[OrderedStatistic(items_base=frozenset({' 30-34'}), items_add=frozenset({'sim', 'coca-cola'}), confidence=0.17115689381933438, lift=1.5805599577390386), OrderedStatistic(items_base=frozenset({'sim'}), items_add=frozenset({'coca-cola', ' 30-34'}), confidence=0.3829787234042553, lift=1.523766410140335), OrderedStatistic(items_base=frozenset({'coca-cola', ' 30-34'}), items_add=frozenset({'sim'}), confidence=0.19148936170212766, lift=1.523766410140335), OrderedStatistic(items_base=frozenset({'sim', 'coca-cola'}), items_add=frozenset({' 30-34'}), confidence=0.4444444444444444, lift=1.5805599577390386)]), RelationRecord(items=frozenset({'guarana', 'nao', ' 34-38'}), support=0.05258467023172905, ordered_statistics=[OrderedStatistic(items_base=frozenset({' 34-38'}), items_add=frozenset({'guarana', 'nao'}), confidence=0.30569948186528495, lift=1.9161721712449704), OrderedStatistic(items_base=frozenset({'guarana'}), items_add=frozenset({'nao', ' 34-38'}), confidence=0.2972292191435768, lift=2.033482828531056), OrderedStatistic(items_base=frozenset({'nao', ' 34-38'}), items_add=frozenset({'guarana'}), confidence=0.35975609756097554, lift=2.0334828285310556), OrderedStatistic(items_base=frozenset({'guarana', 'nao'}), items_add=frozenset({' 34-38'}), confidence=0.329608938547486, lift=1.9161721712449704)]), RelationRecord(items=frozenset({'22-33 ', 'coca-cola', 'fim'}), support=0.0427807486631016, ordered_statistics=[OrderedStatistic(items_base=frozenset({'22-33 '}), items_add=frozenset({'coca-cola', 'fim'}), confidence=0.23300970873786409, lift=1.5515542623375875), OrderedStatistic(items_base=frozenset({'fim'}), items_add=frozenset({'22-33 ', 'coca-cola'}), confidence=0.23414634146341462, lift=1.5318495342387823), OrderedStatistic(items_base=frozenset({'22-33 ', 'coca-cola'}), items_add=frozenset({'fim'}), confidence=0.2798833819241982, lift=1.5318495342387823), OrderedStatistic(items_base=frozenset({'coca-cola', 'fim'}), items_add=frozenset({'22-33 '}), confidence=0.28486646884273, lift=1.5515542623375875)]), RelationRecord(items=frozenset({'buscar', 'nao', 'coca-cola', ' 18-22'}), support=0.04634581105169341, ordered_statistics=[OrderedStatistic(items_base=frozenset({' 18-22'}), items_add=frozenset({'buscar', 'nao', 'coca-cola'}), confidence=0.538860103626943, lift=1.7423660987591645), OrderedStatistic(items_base=frozenset({'nao', ' 18-22'}), items_add=frozenset({'buscar', 'coca-cola'}), confidence=0.5416666666666667, lift=1.5080645161290325), OrderedStatistic(items_base=frozenset({'buscar', 'coca-cola'}), items_add=frozenset({'nao', ' 18-22'}), confidence=0.12903225806451613, lift=1.5080645161290323), OrderedStatistic(items_base=frozenset({'buscar', 'nao', 'coca-cola'}), items_add=frozenset({' 18-22'}), confidence=0.14985590778097985, lift=1.7423660987591645)])]\n"
     ]
    }
   ],
   "source": [
    "# Dessa forma, não mostra um valor se relacionando com ele mesmo\n",
    "apriori = apriori(transacoes, min_support=0.04, min_confidence=0.05, min_lift=1.5, min_length=2)\n",
    "regras = list(apriori)\n",
    "print(regras)"
   ]
  },
  {
   "cell_type": "code",
   "execution_count": 31,
   "metadata": {},
   "outputs": [
    {
     "name": "stdout",
     "output_type": "stream",
     "text": [
      "RelationRecord(items=frozenset({'guarana', ' 34-38'}), support=0.05525846702317291, ordered_statistics=[OrderedStatistic(items_base=frozenset({' 34-38'}), items_add=frozenset({'guarana'}), confidence=0.32124352331606215, lift=1.815794625494316), OrderedStatistic(items_base=frozenset({'guarana'}), items_add=frozenset({' 34-38'}), confidence=0.3123425692695214, lift=1.815794625494316)])\n"
     ]
    }
   ],
   "source": [
    "print(regras[0])"
   ]
  },
  {
   "cell_type": "markdown",
   "metadata": {},
   "source": [
    "**Total de regras**"
   ]
  },
  {
   "cell_type": "code",
   "execution_count": 32,
   "metadata": {},
   "outputs": [
    {
     "data": {
      "text/plain": [
       "8"
      ]
     },
     "execution_count": 32,
     "metadata": {},
     "output_type": "execute_result"
    }
   ],
   "source": [
    "numeroderegras = (len(regras))\n",
    "numeroderegras"
   ]
  },
  {
   "cell_type": "markdown",
   "metadata": {},
   "source": [
    "**Visualizando o resultado de forma tabular**"
   ]
  },
  {
   "cell_type": "code",
   "execution_count": 33,
   "metadata": {},
   "outputs": [],
   "source": [
    "# putting output into a pandas dataframe\n",
    "def inspect(regras):\n",
    "    A         = [tuple(result[2][0][0])[0] for result in regras]\n",
    "    B         = [tuple(result[2][0][1])[0] for result in regras]\n",
    "    support    = [result[1] for result in regras]\n",
    "    confidence = [result[2][0][2] for result in regras]\n",
    "    lift       = [result[2][0][3] for result in regras]\n",
    "    return list(zip(A, B, support, confidence, lift))\n",
    "\n",
    "output_DataFrame = pd.DataFrame(inspect(regras), columns = ['A', 'B', 'Suporte', 'Confiança', 'Lift'])"
   ]
  },
  {
   "cell_type": "markdown",
   "metadata": {},
   "source": [
    "**Mostrando os resultados desordenados**"
   ]
  },
  {
   "cell_type": "code",
   "execution_count": 34,
   "metadata": {},
   "outputs": [
    {
     "data": {
      "text/html": [
       "<div>\n",
       "<style scoped>\n",
       "    .dataframe tbody tr th:only-of-type {\n",
       "        vertical-align: middle;\n",
       "    }\n",
       "\n",
       "    .dataframe tbody tr th {\n",
       "        vertical-align: top;\n",
       "    }\n",
       "\n",
       "    .dataframe thead th {\n",
       "        text-align: right;\n",
       "    }\n",
       "</style>\n",
       "<table border=\"1\" class=\"dataframe\">\n",
       "  <thead>\n",
       "    <tr style=\"text-align: right;\">\n",
       "      <th></th>\n",
       "      <th>A</th>\n",
       "      <th>B</th>\n",
       "      <th>Suporte</th>\n",
       "      <th>Confiança</th>\n",
       "      <th>Lift</th>\n",
       "    </tr>\n",
       "  </thead>\n",
       "  <tbody>\n",
       "    <tr>\n",
       "      <th>0</th>\n",
       "      <td>34-38</td>\n",
       "      <td>guarana</td>\n",
       "      <td>0.055258</td>\n",
       "      <td>0.321244</td>\n",
       "      <td>1.815795</td>\n",
       "    </tr>\n",
       "    <tr>\n",
       "      <th>1</th>\n",
       "      <td>22-33</td>\n",
       "      <td>fim</td>\n",
       "      <td>0.051248</td>\n",
       "      <td>0.279126</td>\n",
       "      <td>1.527705</td>\n",
       "    </tr>\n",
       "    <tr>\n",
       "      <th>2</th>\n",
       "      <td>18-22</td>\n",
       "      <td>buscar</td>\n",
       "      <td>0.046791</td>\n",
       "      <td>0.544041</td>\n",
       "      <td>1.514676</td>\n",
       "    </tr>\n",
       "    <tr>\n",
       "      <th>3</th>\n",
       "      <td>18-22</td>\n",
       "      <td>buscar</td>\n",
       "      <td>0.047237</td>\n",
       "      <td>0.549223</td>\n",
       "      <td>1.504830</td>\n",
       "    </tr>\n",
       "    <tr>\n",
       "      <th>4</th>\n",
       "      <td>30-34</td>\n",
       "      <td>sim</td>\n",
       "      <td>0.048128</td>\n",
       "      <td>0.171157</td>\n",
       "      <td>1.580560</td>\n",
       "    </tr>\n",
       "    <tr>\n",
       "      <th>5</th>\n",
       "      <td>34-38</td>\n",
       "      <td>guarana</td>\n",
       "      <td>0.052585</td>\n",
       "      <td>0.305699</td>\n",
       "      <td>1.916172</td>\n",
       "    </tr>\n",
       "    <tr>\n",
       "      <th>6</th>\n",
       "      <td>22-33</td>\n",
       "      <td>coca-cola</td>\n",
       "      <td>0.042781</td>\n",
       "      <td>0.233010</td>\n",
       "      <td>1.551554</td>\n",
       "    </tr>\n",
       "    <tr>\n",
       "      <th>7</th>\n",
       "      <td>18-22</td>\n",
       "      <td>buscar</td>\n",
       "      <td>0.046346</td>\n",
       "      <td>0.538860</td>\n",
       "      <td>1.742366</td>\n",
       "    </tr>\n",
       "  </tbody>\n",
       "</table>\n",
       "</div>"
      ],
      "text/plain": [
       "        A          B   Suporte  Confiança      Lift\n",
       "0   34-38    guarana  0.055258   0.321244  1.815795\n",
       "1  22-33         fim  0.051248   0.279126  1.527705\n",
       "2   18-22     buscar  0.046791   0.544041  1.514676\n",
       "3   18-22     buscar  0.047237   0.549223  1.504830\n",
       "4   30-34        sim  0.048128   0.171157  1.580560\n",
       "5   34-38    guarana  0.052585   0.305699  1.916172\n",
       "6  22-33   coca-cola  0.042781   0.233010  1.551554\n",
       "7   18-22     buscar  0.046346   0.538860  1.742366"
      ]
     },
     "execution_count": 34,
     "metadata": {},
     "output_type": "execute_result"
    }
   ],
   "source": [
    "output_DataFrame"
   ]
  },
  {
   "cell_type": "markdown",
   "metadata": {},
   "source": [
    "**Ordenação destas regras por uma métrica desejada**"
   ]
  },
  {
   "cell_type": "code",
   "execution_count": 35,
   "metadata": {},
   "outputs": [
    {
     "data": {
      "text/html": [
       "<div>\n",
       "<style scoped>\n",
       "    .dataframe tbody tr th:only-of-type {\n",
       "        vertical-align: middle;\n",
       "    }\n",
       "\n",
       "    .dataframe tbody tr th {\n",
       "        vertical-align: top;\n",
       "    }\n",
       "\n",
       "    .dataframe thead th {\n",
       "        text-align: right;\n",
       "    }\n",
       "</style>\n",
       "<table border=\"1\" class=\"dataframe\">\n",
       "  <thead>\n",
       "    <tr style=\"text-align: right;\">\n",
       "      <th></th>\n",
       "      <th>A</th>\n",
       "      <th>B</th>\n",
       "      <th>Suporte</th>\n",
       "      <th>Confiança</th>\n",
       "      <th>Lift</th>\n",
       "    </tr>\n",
       "  </thead>\n",
       "  <tbody>\n",
       "    <tr>\n",
       "      <th>3</th>\n",
       "      <td>18-22</td>\n",
       "      <td>buscar</td>\n",
       "      <td>0.047237</td>\n",
       "      <td>0.549223</td>\n",
       "      <td>1.504830</td>\n",
       "    </tr>\n",
       "    <tr>\n",
       "      <th>2</th>\n",
       "      <td>18-22</td>\n",
       "      <td>buscar</td>\n",
       "      <td>0.046791</td>\n",
       "      <td>0.544041</td>\n",
       "      <td>1.514676</td>\n",
       "    </tr>\n",
       "    <tr>\n",
       "      <th>7</th>\n",
       "      <td>18-22</td>\n",
       "      <td>buscar</td>\n",
       "      <td>0.046346</td>\n",
       "      <td>0.538860</td>\n",
       "      <td>1.742366</td>\n",
       "    </tr>\n",
       "    <tr>\n",
       "      <th>0</th>\n",
       "      <td>34-38</td>\n",
       "      <td>guarana</td>\n",
       "      <td>0.055258</td>\n",
       "      <td>0.321244</td>\n",
       "      <td>1.815795</td>\n",
       "    </tr>\n",
       "    <tr>\n",
       "      <th>5</th>\n",
       "      <td>34-38</td>\n",
       "      <td>guarana</td>\n",
       "      <td>0.052585</td>\n",
       "      <td>0.305699</td>\n",
       "      <td>1.916172</td>\n",
       "    </tr>\n",
       "    <tr>\n",
       "      <th>1</th>\n",
       "      <td>22-33</td>\n",
       "      <td>fim</td>\n",
       "      <td>0.051248</td>\n",
       "      <td>0.279126</td>\n",
       "      <td>1.527705</td>\n",
       "    </tr>\n",
       "    <tr>\n",
       "      <th>6</th>\n",
       "      <td>22-33</td>\n",
       "      <td>coca-cola</td>\n",
       "      <td>0.042781</td>\n",
       "      <td>0.233010</td>\n",
       "      <td>1.551554</td>\n",
       "    </tr>\n",
       "    <tr>\n",
       "      <th>4</th>\n",
       "      <td>30-34</td>\n",
       "      <td>sim</td>\n",
       "      <td>0.048128</td>\n",
       "      <td>0.171157</td>\n",
       "      <td>1.580560</td>\n",
       "    </tr>\n",
       "  </tbody>\n",
       "</table>\n",
       "</div>"
      ],
      "text/plain": [
       "        A          B   Suporte  Confiança      Lift\n",
       "3   18-22     buscar  0.047237   0.549223  1.504830\n",
       "2   18-22     buscar  0.046791   0.544041  1.514676\n",
       "7   18-22     buscar  0.046346   0.538860  1.742366\n",
       "0   34-38    guarana  0.055258   0.321244  1.815795\n",
       "5   34-38    guarana  0.052585   0.305699  1.916172\n",
       "1  22-33         fim  0.051248   0.279126  1.527705\n",
       "6  22-33   coca-cola  0.042781   0.233010  1.551554\n",
       "4   30-34        sim  0.048128   0.171157  1.580560"
      ]
     },
     "execution_count": 35,
     "metadata": {},
     "output_type": "execute_result"
    }
   ],
   "source": [
    "output_DataFrame.nlargest(n = 8, columns = 'Confiança')"
   ]
  }
 ],
 "metadata": {
  "kernelspec": {
   "display_name": "Python 3.10.6 64-bit",
   "language": "python",
   "name": "python3"
  },
  "language_info": {
   "codemirror_mode": {
    "name": "ipython",
    "version": 3
   },
   "file_extension": ".py",
   "mimetype": "text/x-python",
   "name": "python",
   "nbconvert_exporter": "python",
   "pygments_lexer": "ipython3",
   "version": "3.10.6"
  },
  "orig_nbformat": 4,
  "vscode": {
   "interpreter": {
    "hash": "afb734500600fd355917ca529030176ea0ca205570884b88f2f6f7d791fd3fbe"
   }
  }
 },
 "nbformat": 4,
 "nbformat_minor": 2
}
