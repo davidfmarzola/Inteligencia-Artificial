{
 "cells": [
  {
   "cell_type": "markdown",
   "metadata": {},
   "source": [
    "Atualizando a biblioteca para plotagem de gráficos"
   ]
  },
  {
   "cell_type": "code",
   "execution_count": 10,
   "metadata": {},
   "outputs": [],
   "source": [
    "!pip -q install plotly --upgrade"
   ]
  },
  {
   "cell_type": "markdown",
   "metadata": {},
   "source": [
    "Importing libraries"
   ]
  },
  {
   "cell_type": "code",
   "execution_count": 11,
   "metadata": {},
   "outputs": [],
   "source": [
    "import pandas as pd\n",
    "import numpy as np\n",
    "# import seaborn as sns\n",
    "import matplotlib.pyplot as plt\n",
    "import plotly.express as px"
   ]
  },
  {
   "cell_type": "markdown",
   "metadata": {},
   "source": [
    "Abrindo um arquivo CSV do drive"
   ]
  },
  {
   "cell_type": "code",
   "execution_count": 12,
   "metadata": {},
   "outputs": [
    {
     "data": {
      "text/html": [
       "<div>\n",
       "<style scoped>\n",
       "    .dataframe tbody tr th:only-of-type {\n",
       "        vertical-align: middle;\n",
       "    }\n",
       "\n",
       "    .dataframe tbody tr th {\n",
       "        vertical-align: top;\n",
       "    }\n",
       "\n",
       "    .dataframe thead th {\n",
       "        text-align: right;\n",
       "    }\n",
       "</style>\n",
       "<table border=\"1\" class=\"dataframe\">\n",
       "  <thead>\n",
       "    <tr style=\"text-align: right;\">\n",
       "      <th></th>\n",
       "      <th>age</th>\n",
       "      <th>menopause</th>\n",
       "      <th>tumor-size</th>\n",
       "      <th>inv-nodes</th>\n",
       "      <th>node-caps</th>\n",
       "      <th>deg-malig</th>\n",
       "      <th>breast</th>\n",
       "      <th>breast-quad</th>\n",
       "      <th>irradiat</th>\n",
       "      <th>Class</th>\n",
       "    </tr>\n",
       "  </thead>\n",
       "  <tbody>\n",
       "    <tr>\n",
       "      <th>0</th>\n",
       "      <td>40-49</td>\n",
       "      <td>premeno</td>\n",
       "      <td>15-19</td>\n",
       "      <td>0-2</td>\n",
       "      <td>yes</td>\n",
       "      <td>3</td>\n",
       "      <td>right</td>\n",
       "      <td>left_up</td>\n",
       "      <td>no</td>\n",
       "      <td>recurrence-events</td>\n",
       "    </tr>\n",
       "    <tr>\n",
       "      <th>1</th>\n",
       "      <td>50-59</td>\n",
       "      <td>ge40</td>\n",
       "      <td>15-19</td>\n",
       "      <td>0-2</td>\n",
       "      <td>no</td>\n",
       "      <td>1</td>\n",
       "      <td>right</td>\n",
       "      <td>central</td>\n",
       "      <td>no</td>\n",
       "      <td>no-recurrence-events</td>\n",
       "    </tr>\n",
       "    <tr>\n",
       "      <th>2</th>\n",
       "      <td>50-59</td>\n",
       "      <td>ge40</td>\n",
       "      <td>35-39</td>\n",
       "      <td>0-2</td>\n",
       "      <td>no</td>\n",
       "      <td>2</td>\n",
       "      <td>left</td>\n",
       "      <td>left_low</td>\n",
       "      <td>no</td>\n",
       "      <td>recurrence-events</td>\n",
       "    </tr>\n",
       "    <tr>\n",
       "      <th>3</th>\n",
       "      <td>40-49</td>\n",
       "      <td>premeno</td>\n",
       "      <td>35-39</td>\n",
       "      <td>0-2</td>\n",
       "      <td>yes</td>\n",
       "      <td>3</td>\n",
       "      <td>right</td>\n",
       "      <td>left_low</td>\n",
       "      <td>yes</td>\n",
       "      <td>no-recurrence-events</td>\n",
       "    </tr>\n",
       "    <tr>\n",
       "      <th>4</th>\n",
       "      <td>40-49</td>\n",
       "      <td>premeno</td>\n",
       "      <td>30-34</td>\n",
       "      <td>03/mai</td>\n",
       "      <td>yes</td>\n",
       "      <td>2</td>\n",
       "      <td>left</td>\n",
       "      <td>right_up</td>\n",
       "      <td>no</td>\n",
       "      <td>recurrence-events</td>\n",
       "    </tr>\n",
       "    <tr>\n",
       "      <th>...</th>\n",
       "      <td>...</td>\n",
       "      <td>...</td>\n",
       "      <td>...</td>\n",
       "      <td>...</td>\n",
       "      <td>...</td>\n",
       "      <td>...</td>\n",
       "      <td>...</td>\n",
       "      <td>...</td>\n",
       "      <td>...</td>\n",
       "      <td>...</td>\n",
       "    </tr>\n",
       "    <tr>\n",
       "      <th>281</th>\n",
       "      <td>50-59</td>\n",
       "      <td>ge40</td>\n",
       "      <td>30-34</td>\n",
       "      <td>06/ago</td>\n",
       "      <td>yes</td>\n",
       "      <td>2</td>\n",
       "      <td>left</td>\n",
       "      <td>left_low</td>\n",
       "      <td>no</td>\n",
       "      <td>no-recurrence-events</td>\n",
       "    </tr>\n",
       "    <tr>\n",
       "      <th>282</th>\n",
       "      <td>50-59</td>\n",
       "      <td>premeno</td>\n",
       "      <td>25-29</td>\n",
       "      <td>03/mai</td>\n",
       "      <td>yes</td>\n",
       "      <td>2</td>\n",
       "      <td>left</td>\n",
       "      <td>left_low</td>\n",
       "      <td>yes</td>\n",
       "      <td>no-recurrence-events</td>\n",
       "    </tr>\n",
       "    <tr>\n",
       "      <th>283</th>\n",
       "      <td>30-39</td>\n",
       "      <td>premeno</td>\n",
       "      <td>30-34</td>\n",
       "      <td>06/ago</td>\n",
       "      <td>yes</td>\n",
       "      <td>2</td>\n",
       "      <td>right</td>\n",
       "      <td>right_up</td>\n",
       "      <td>no</td>\n",
       "      <td>no-recurrence-events</td>\n",
       "    </tr>\n",
       "    <tr>\n",
       "      <th>284</th>\n",
       "      <td>50-59</td>\n",
       "      <td>premeno</td>\n",
       "      <td>15-19</td>\n",
       "      <td>0-2</td>\n",
       "      <td>no</td>\n",
       "      <td>2</td>\n",
       "      <td>right</td>\n",
       "      <td>left_low</td>\n",
       "      <td>no</td>\n",
       "      <td>no-recurrence-events</td>\n",
       "    </tr>\n",
       "    <tr>\n",
       "      <th>285</th>\n",
       "      <td>50-59</td>\n",
       "      <td>ge40</td>\n",
       "      <td>40-44</td>\n",
       "      <td>0-2</td>\n",
       "      <td>no</td>\n",
       "      <td>3</td>\n",
       "      <td>left</td>\n",
       "      <td>right_up</td>\n",
       "      <td>no</td>\n",
       "      <td>no-recurrence-events</td>\n",
       "    </tr>\n",
       "  </tbody>\n",
       "</table>\n",
       "<p>286 rows × 10 columns</p>\n",
       "</div>"
      ],
      "text/plain": [
       "       age menopause tumor-size inv-nodes node-caps  deg-malig breast  \\\n",
       "0    40-49   premeno      15-19       0-2       yes          3  right   \n",
       "1    50-59      ge40      15-19       0-2        no          1  right   \n",
       "2    50-59      ge40      35-39       0-2        no          2   left   \n",
       "3    40-49   premeno      35-39       0-2       yes          3  right   \n",
       "4    40-49   premeno      30-34    03/mai       yes          2   left   \n",
       "..     ...       ...        ...       ...       ...        ...    ...   \n",
       "281  50-59      ge40      30-34    06/ago       yes          2   left   \n",
       "282  50-59   premeno      25-29    03/mai       yes          2   left   \n",
       "283  30-39   premeno      30-34    06/ago       yes          2  right   \n",
       "284  50-59   premeno      15-19       0-2        no          2  right   \n",
       "285  50-59      ge40      40-44       0-2        no          3   left   \n",
       "\n",
       "    breast-quad irradiat                 Class  \n",
       "0       left_up       no     recurrence-events  \n",
       "1       central       no  no-recurrence-events  \n",
       "2      left_low       no     recurrence-events  \n",
       "3      left_low      yes  no-recurrence-events  \n",
       "4      right_up       no     recurrence-events  \n",
       "..          ...      ...                   ...  \n",
       "281    left_low       no  no-recurrence-events  \n",
       "282    left_low      yes  no-recurrence-events  \n",
       "283    right_up       no  no-recurrence-events  \n",
       "284    left_low       no  no-recurrence-events  \n",
       "285    right_up       no  no-recurrence-events  \n",
       "\n",
       "[286 rows x 10 columns]"
      ]
     },
     "execution_count": 12,
     "metadata": {},
     "output_type": "execute_result"
    }
   ],
   "source": [
    "data = pd.read_csv('./dataset/breast-cancer.csv', sep=';')\n",
    "data"
   ]
  },
  {
   "cell_type": "markdown",
   "metadata": {},
   "source": [
    "Separando os atributos de entrada e de classe"
   ]
  },
  {
   "cell_type": "code",
   "execution_count": 13,
   "metadata": {},
   "outputs": [],
   "source": [
    "training_data = data.iloc[:,0:9].values # i don't get the target attribute"
   ]
  },
  {
   "cell_type": "markdown",
   "metadata": {},
   "source": [
    "Target Values - last column"
   ]
  },
  {
   "cell_type": "code",
   "execution_count": 14,
   "metadata": {},
   "outputs": [],
   "source": [
    "y_classe = data.iloc[:,9].values"
   ]
  },
  {
   "cell_type": "markdown",
   "metadata": {},
   "source": [
    "| Tratamento de linhas que contenham o '?'"
   ]
  },
  {
   "cell_type": "markdown",
   "metadata": {},
   "source": [
    "Primeiramente, convertemos essas entradas para \"NaN\":"
   ]
  },
  {
   "cell_type": "code",
   "execution_count": 15,
   "metadata": {},
   "outputs": [],
   "source": [
    "import numpy as np\n",
    "# Substitui Nan por um caracter desejado\n",
    "data = data.replace('?', np.nan) # presente em dois atributos da base 'breast-cancer'"
   ]
  },
  {
   "cell_type": "markdown",
   "metadata": {},
   "source": [
    "Apagando as linhas com \"NaN\""
   ]
  },
  {
   "cell_type": "code",
   "execution_count": 16,
   "metadata": {},
   "outputs": [],
   "source": [
    "# remove as linhas com NaN\n",
    "data = data.dropna() "
   ]
  },
  {
   "cell_type": "markdown",
   "metadata": {},
   "source": [
    "Tratamento de dados categóricos (strings)"
   ]
  },
  {
   "cell_type": "code",
   "execution_count": 17,
   "metadata": {},
   "outputs": [],
   "source": [
    "from sklearn.preprocessing import LabelEncoder"
   ]
  },
  {
   "cell_type": "code",
   "execution_count": 18,
   "metadata": {},
   "outputs": [],
   "source": [
    "label_encoder = LabelEncoder()"
   ]
  },
  {
   "cell_type": "markdown",
   "metadata": {},
   "source": [
    "Binarizando atributos nominais"
   ]
  },
  {
   "cell_type": "code",
   "execution_count": 19,
   "metadata": {},
   "outputs": [],
   "source": [
    "label_encoder_NodeCaps = LabelEncoder()\n",
    "label_encoder_Breast = LabelEncoder()\n",
    "label_encoder_Irradiat = LabelEncoder()"
   ]
  },
  {
   "cell_type": "code",
   "execution_count": 20,
   "metadata": {},
   "outputs": [],
   "source": [
    "training_data[:,4] = label_encoder_NodeCaps.fit_transform(training_data[:,4])\n",
    "training_data[:,6] = label_encoder_Breast.fit_transform(training_data[:,6])\n",
    "training_data[:,8] = label_encoder_Irradiat.fit_transform(training_data[:,8])"
   ]
  },
  {
   "cell_type": "code",
   "execution_count": 21,
   "metadata": {},
   "outputs": [
    {
     "data": {
      "text/plain": [
       "array([['40-49', 'premeno', '15-19', ..., 1, 'left_up', 0],\n",
       "       ['50-59', 'ge40', '15-19', ..., 1, 'central', 0],\n",
       "       ['50-59', 'ge40', '35-39', ..., 0, 'left_low', 0],\n",
       "       ...,\n",
       "       ['30-39', 'premeno', '30-34', ..., 1, 'right_up', 0],\n",
       "       ['50-59', 'premeno', '15-19', ..., 1, 'left_low', 0],\n",
       "       ['50-59', 'ge40', '40-44', ..., 0, 'right_up', 0]], dtype=object)"
      ]
     },
     "execution_count": 21,
     "metadata": {},
     "output_type": "execute_result"
    }
   ],
   "source": [
    "training_data"
   ]
  },
  {
   "cell_type": "markdown",
   "metadata": {},
   "source": [
    "| OneHotEncoder - Vamos **binarizar atributos não ordinais**"
   ]
  },
  {
   "cell_type": "code",
   "execution_count": 22,
   "metadata": {},
   "outputs": [],
   "source": [
    "from sklearn.preprocessing import OneHotEncoder\n",
    "from sklearn.compose import ColumnTransformer"
   ]
  },
  {
   "cell_type": "code",
   "execution_count": 23,
   "metadata": {},
   "outputs": [],
   "source": [
    "onehotencoder = ColumnTransformer(transformers=[('OneHot', OneHotEncoder(), [0,1,2,3,5,7])], remainder=\"passthrough\")"
   ]
  },
  {
   "cell_type": "code",
   "execution_count": 24,
   "metadata": {},
   "outputs": [],
   "source": [
    "training_data = onehotencoder.fit_transform(training_data)"
   ]
  },
  {
   "cell_type": "code",
   "execution_count": 25,
   "metadata": {},
   "outputs": [
    {
     "data": {
      "text/plain": [
       "<286x39 sparse matrix of type '<class 'numpy.float64'>'\n",
       "\twith 2196 stored elements in Compressed Sparse Row format>"
      ]
     },
     "execution_count": 25,
     "metadata": {},
     "output_type": "execute_result"
    }
   ],
   "source": [
    "training_data"
   ]
  },
  {
   "cell_type": "markdown",
   "metadata": {},
   "source": [
    "Metódo de amostragem **Holdout**"
   ]
  },
  {
   "cell_type": "code",
   "execution_count": 26,
   "metadata": {},
   "outputs": [],
   "source": [
    "from sklearn.model_selection import train_test_split"
   ]
  },
  {
   "cell_type": "code",
   "execution_count": 27,
   "metadata": {},
   "outputs": [],
   "source": [
    "# | 80%  |  20%  |\n",
    "x_treino, x_teste, y_treino, y_teste = train_test_split(training_data, y_classe, test_size = 0.20, random_state = 0)\n"
   ]
  },
  {
   "cell_type": "markdown",
   "metadata": {},
   "source": [
    "Pickling is used to store python objects"
   ]
  },
  {
   "cell_type": "code",
   "execution_count": 29,
   "metadata": {},
   "outputs": [],
   "source": [
    "import pickle\n",
    "\n",
    "with open('./sample_data/breast_cancer.pkl', mode = 'wb') as f:\n",
    "    pickle.dump([training_data, x_teste, y_treino, y_teste], f)"
   ]
  }
 ],
 "metadata": {
  "kernelspec": {
   "display_name": "Python 3.10.6 64-bit",
   "language": "python",
   "name": "python3"
  },
  "language_info": {
   "codemirror_mode": {
    "name": "ipython",
    "version": 3
   },
   "file_extension": ".py",
   "mimetype": "text/x-python",
   "name": "python",
   "nbconvert_exporter": "python",
   "pygments_lexer": "ipython3",
   "version": "3.10.6"
  },
  "orig_nbformat": 4,
  "vscode": {
   "interpreter": {
    "hash": "afb734500600fd355917ca529030176ea0ca205570884b88f2f6f7d791fd3fbe"
   }
  }
 },
 "nbformat": 4,
 "nbformat_minor": 2
}
