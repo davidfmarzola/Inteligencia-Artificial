{
  "cells": [
    {
      "cell_type": "code",
      "execution_count": 1,
      "metadata": {
        "id": "vQ2G194jLwAG"
      },
      "outputs": [],
      "source": [
        "!pip -q install yellowbrick"
      ]
    },
    {
      "cell_type": "code",
      "execution_count": 2,
      "metadata": {
        "id": "e3eWBg53L6Ix"
      },
      "outputs": [],
      "source": [
        "import pandas as pd\n",
        "import numpy as np\n",
        "import matplotlib.pyplot as plt\n",
        "import plotly.express as px\n",
        "from sklearn.tree import DecisionTreeClassifier"
      ]
    },
    {
      "cell_type": "code",
      "execution_count": 3,
      "metadata": {
        "id": "q9cLEwqcMGVQ"
      },
      "outputs": [
        {
          "ename": "FileNotFoundError",
          "evalue": "[Errno 2] No such file or directory: '/content/restaurante.pkl'",
          "output_type": "error",
          "traceback": [
            "\u001b[1;31m---------------------------------------------------------------------------\u001b[0m",
            "\u001b[1;31mFileNotFoundError\u001b[0m                         Traceback (most recent call last)",
            "\u001b[1;32mc:\\Users\\User\\OneDrive - sga.pucminas.br\\Área de Trabalho\\4°periodo\\IA\\Lista3\\questao1\\decision_tree.ipynb Célula: 3\u001b[0m in \u001b[0;36m<cell line: 2>\u001b[1;34m()\u001b[0m\n\u001b[0;32m      <a href='vscode-notebook-cell:/c%3A/Users/User/OneDrive%20-%20sga.pucminas.br/%C3%81rea%20de%20Trabalho/4%C2%B0periodo/IA/Lista3/questao1/decision_tree.ipynb#W2sZmlsZQ%3D%3D?line=0'>1</a>\u001b[0m \u001b[39mimport\u001b[39;00m \u001b[39mpickle\u001b[39;00m\n\u001b[1;32m----> <a href='vscode-notebook-cell:/c%3A/Users/User/OneDrive%20-%20sga.pucminas.br/%C3%81rea%20de%20Trabalho/4%C2%B0periodo/IA/Lista3/questao1/decision_tree.ipynb#W2sZmlsZQ%3D%3D?line=1'>2</a>\u001b[0m \u001b[39mwith\u001b[39;00m \u001b[39mopen\u001b[39;49m(\u001b[39m'\u001b[39;49m\u001b[39m/content/restaurante.pkl\u001b[39;49m\u001b[39m'\u001b[39;49m,\u001b[39m'\u001b[39;49m\u001b[39mrb\u001b[39;49m\u001b[39m'\u001b[39;49m) \u001b[39mas\u001b[39;00m f:\n\u001b[0;32m      <a href='vscode-notebook-cell:/c%3A/Users/User/OneDrive%20-%20sga.pucminas.br/%C3%81rea%20de%20Trabalho/4%C2%B0periodo/IA/Lista3/questao1/decision_tree.ipynb#W2sZmlsZQ%3D%3D?line=2'>3</a>\u001b[0m   x_treino, x_teste, y_treino, y_teste \u001b[39m=\u001b[39m pickle\u001b[39m.\u001b[39mload(f)\n",
            "\u001b[1;31mFileNotFoundError\u001b[0m: [Errno 2] No such file or directory: '/content/restaurante.pkl'"
          ]
        }
      ],
      "source": [
        "import pickle\n",
        "with open('/content/restaurante.pkl','rb') as f:\n",
        "  x_treino, x_teste, y_treino, y_teste = pickle.load(f)"
      ]
    },
    {
      "cell_type": "markdown",
      "metadata": {
        "id": "aI1Ag3myt_Z3"
      },
      "source": [
        "| Gini measures the impurity of the node in a decision tree"
      ]
    },
    {
      "cell_type": "code",
      "execution_count": null,
      "metadata": {
        "colab": {
          "base_uri": "https://localhost:8080/"
        },
        "id": "_r_BbXciMgCQ",
        "outputId": "af730972-45ea-43af-dd25-64bde80ccfb6"
      },
      "outputs": [
        {
          "data": {
            "text/plain": [
              "DecisionTreeClassifier(max_depth=3)"
            ]
          },
          "execution_count": 38,
          "metadata": {},
          "output_type": "execute_result"
        }
      ],
      "source": [
        "modelo = DecisionTreeClassifier(criterion=\"gini\")\n",
        "modelo.fit(x_treino, y_treino)"
      ]
    },
    {
      "cell_type": "markdown",
      "metadata": {
        "id": "O-MwgQtlMoyu"
      },
      "source": [
        "**Vamos testar o modelo?**"
      ]
    },
    {
      "cell_type": "code",
      "execution_count": null,
      "metadata": {
        "id": "4R0IKh49Mrrm"
      },
      "outputs": [],
      "source": [
        "previsoes = modelo.predict(x_teste)"
      ]
    },
    {
      "cell_type": "code",
      "execution_count": null,
      "metadata": {
        "colab": {
          "base_uri": "https://localhost:8080/"
        },
        "id": "d-Z7qwPmMugu",
        "outputId": "2b07a52b-3b6a-4dbd-ec77-fad40557200e"
      },
      "outputs": [
        {
          "data": {
            "text/plain": [
              "array(['Não', 'Não', 'Não'], dtype=object)"
            ]
          },
          "execution_count": 40,
          "metadata": {},
          "output_type": "execute_result"
        }
      ],
      "source": [
        "previsoes"
      ]
    },
    {
      "cell_type": "markdown",
      "metadata": {
        "id": "shTcne90M1je"
      },
      "source": [
        "**Será que o modelo acertou?**"
      ]
    },
    {
      "cell_type": "code",
      "execution_count": null,
      "metadata": {
        "colab": {
          "base_uri": "https://localhost:8080/"
        },
        "id": "HHV1_SPBM4i3",
        "outputId": "68bb10b3-688a-4f36-f4a9-95be0e75604e"
      },
      "outputs": [
        {
          "data": {
            "text/plain": [
              "array(['Não', 'Sim', 'Não'], dtype=object)"
            ]
          },
          "execution_count": 41,
          "metadata": {},
          "output_type": "execute_result"
        }
      ],
      "source": [
        "y_teste"
      ]
    },
    {
      "cell_type": "code",
      "execution_count": null,
      "metadata": {
        "colab": {
          "base_uri": "https://localhost:8080/"
        },
        "id": "yG3Gt8QSM6Dl",
        "outputId": "73b2559c-f425-4e4e-bf1e-e2e7473f808d"
      },
      "outputs": [
        {
          "name": "stdout",
          "output_type": "stream",
          "text": [
            "Accuracy: 0.6666666666666666\n"
          ]
        }
      ],
      "source": [
        "from sklearn.metrics import accuracy_score, confusion_matrix, classification_report\n",
        "print(\"Accuracy:\", accuracy_score(y_teste,previsoes))"
      ]
    },
    {
      "cell_type": "code",
      "execution_count": null,
      "metadata": {
        "colab": {
          "base_uri": "https://localhost:8080/"
        },
        "id": "V1O5I62MNldD",
        "outputId": "88d92e70-ce6a-484b-8551-36314302b363"
      },
      "outputs": [
        {
          "ename": "ModuleNotFoundError",
          "evalue": "No module named 'yellowbrick'",
          "output_type": "error",
          "traceback": [
            "\u001b[1;31m---------------------------------------------------------------------------\u001b[0m",
            "\u001b[1;31mModuleNotFoundError\u001b[0m                       Traceback (most recent call last)",
            "\u001b[1;32mc:\\Users\\User\\OneDrive - sga.pucminas.br\\Área de Trabalho\\4°periodo\\IA\\Lista3\\questao1\\DecisionTree.ipynb Célula: 12\u001b[0m in \u001b[0;36m<cell line: 1>\u001b[1;34m()\u001b[0m\n\u001b[1;32m----> <a href='vscode-notebook-cell:/c%3A/Users/User/OneDrive%20-%20sga.pucminas.br/%C3%81rea%20de%20Trabalho/4%C2%B0periodo/IA/Lista3/questao1/DecisionTree.ipynb#X14sZmlsZQ%3D%3D?line=0'>1</a>\u001b[0m \u001b[39mfrom\u001b[39;00m \u001b[39myellowbrick\u001b[39;00m\u001b[39m.\u001b[39;00m\u001b[39mclassifier\u001b[39;00m \u001b[39mimport\u001b[39;00m ConfusionMatrix\n\u001b[0;32m      <a href='vscode-notebook-cell:/c%3A/Users/User/OneDrive%20-%20sga.pucminas.br/%C3%81rea%20de%20Trabalho/4%C2%B0periodo/IA/Lista3/questao1/DecisionTree.ipynb#X14sZmlsZQ%3D%3D?line=1'>2</a>\u001b[0m confusion_matrix(y_teste, previsoes)\n",
            "\u001b[1;31mModuleNotFoundError\u001b[0m: No module named 'yellowbrick'"
          ]
        }
      ],
      "source": [
        "from yellowbrick.classifier import ConfusionMatrix\n",
        "confusion_matrix(y_teste, previsoes)"
      ]
    },
    {
      "cell_type": "markdown",
      "metadata": {
        "id": "FlIcAA8yOgqI"
      },
      "source": [
        "**Accuracy and Confusion_Matrix**"
      ]
    },
    {
      "cell_type": "code",
      "execution_count": null,
      "metadata": {
        "id": "o2LJAhKCNxkS"
      },
      "outputs": [
        {
          "ename": "NameError",
          "evalue": "name 'ConfusionMatrix' is not defined",
          "output_type": "error",
          "traceback": [
            "\u001b[1;31m---------------------------------------------------------------------------\u001b[0m",
            "\u001b[1;31mNameError\u001b[0m                                 Traceback (most recent call last)",
            "\u001b[1;32mc:\\Users\\User\\OneDrive - sga.pucminas.br\\Área de Trabalho\\4°periodo\\IA\\Lista3\\questao1\\DecisionTree.ipynb Célula: 14\u001b[0m in \u001b[0;36m<cell line: 1>\u001b[1;34m()\u001b[0m\n\u001b[1;32m----> <a href='vscode-notebook-cell:/c%3A/Users/User/OneDrive%20-%20sga.pucminas.br/%C3%81rea%20de%20Trabalho/4%C2%B0periodo/IA/Lista3/questao1/DecisionTree.ipynb#X16sZmlsZQ%3D%3D?line=0'>1</a>\u001b[0m cm \u001b[39m=\u001b[39m ConfusionMatrix(modelo)\n\u001b[0;32m      <a href='vscode-notebook-cell:/c%3A/Users/User/OneDrive%20-%20sga.pucminas.br/%C3%81rea%20de%20Trabalho/4%C2%B0periodo/IA/Lista3/questao1/DecisionTree.ipynb#X16sZmlsZQ%3D%3D?line=1'>2</a>\u001b[0m cm\u001b[39m.\u001b[39mfit(x_treino, y_treino)\n\u001b[0;32m      <a href='vscode-notebook-cell:/c%3A/Users/User/OneDrive%20-%20sga.pucminas.br/%C3%81rea%20de%20Trabalho/4%C2%B0periodo/IA/Lista3/questao1/DecisionTree.ipynb#X16sZmlsZQ%3D%3D?line=2'>3</a>\u001b[0m cm\u001b[39m.\u001b[39mscore(x_teste, y_teste)\n",
            "\u001b[1;31mNameError\u001b[0m: name 'ConfusionMatrix' is not defined"
          ]
        }
      ],
      "source": [
        "cm = ConfusionMatrix(modelo)\n",
        "cm.fit(x_treino, y_treino)\n",
        "cm.score(x_teste, y_teste)"
      ]
    },
    {
      "cell_type": "markdown",
      "metadata": {
        "id": "wM1k4WPROa-g"
      },
      "source": [
        "**Métricas do modelo**"
      ]
    },
    {
      "cell_type": "code",
      "execution_count": null,
      "metadata": {
        "id": "fe2cJXtSN_d6"
      },
      "outputs": [],
      "source": [
        "print(classification_report(y_teste, previsoes))"
      ]
    },
    {
      "cell_type": "markdown",
      "metadata": {
        "id": "MQnueEXVs9o7"
      },
      "source": [
        "**Visualizing the decision tree**"
      ]
    },
    {
      "cell_type": "markdown",
      "metadata": {
        "id": "3V-PDnI2tFKq"
      },
      "source": [
        "| Importing libraries"
      ]
    },
    {
      "cell_type": "code",
      "execution_count": null,
      "metadata": {
        "id": "qJaFn5NZtHIJ"
      },
      "outputs": [],
      "source": [
        "from sklearn.tree import export_graphviz\n",
        "from six import StringIO  \n",
        "from IPython.display import Image  \n",
        "import pydotplus"
      ]
    },
    {
      "cell_type": "code",
      "execution_count": null,
      "metadata": {
        "id": "CrKLOrbatSNg"
      },
      "outputs": [],
      "source": [
        "dot_data = StringIO()\n",
        "export_graphviz(modelo, out_file=dot_data,  \n",
        "                filled=True, rounded=True,\n",
        "                special_characters=True,class_names=['0','1'])\n",
        "graph = pydotplus.graph_from_dot_data(dot_data.getvalue())  \n",
        "graph.write_png('restaurante.png')\n",
        "Image(graph.create_png())"
      ]
    }
  ],
  "metadata": {
    "colab": {
      "collapsed_sections": [],
      "provenance": []
    },
    "kernelspec": {
      "display_name": "Python 3.10.6 64-bit",
      "language": "python",
      "name": "python3"
    },
    "language_info": {
      "codemirror_mode": {
        "name": "ipython",
        "version": 3
      },
      "file_extension": ".py",
      "mimetype": "text/x-python",
      "name": "python",
      "nbconvert_exporter": "python",
      "pygments_lexer": "ipython3",
      "version": "3.10.6"
    },
    "vscode": {
      "interpreter": {
        "hash": "afb734500600fd355917ca529030176ea0ca205570884b88f2f6f7d791fd3fbe"
      }
    }
  },
  "nbformat": 4,
  "nbformat_minor": 0
}
