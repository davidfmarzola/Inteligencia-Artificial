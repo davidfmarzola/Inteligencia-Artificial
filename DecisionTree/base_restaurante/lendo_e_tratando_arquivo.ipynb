{
  "cells": [
    {
      "cell_type": "markdown",
      "metadata": {
        "id": "RzEQE1Q4i2B4"
      },
      "source": [
        "**Atualizando a biblioteca para plotagem de gráficos**"
      ]
    },
    {
      "cell_type": "code",
      "execution_count": 2,
      "metadata": {
        "colab": {
          "base_uri": "https://localhost:8080/"
        },
        "id": "4UKEgIDHqLoP",
        "outputId": "0cc880ec-117c-4495-b73e-cdf6bce0d919"
      },
      "outputs": [],
      "source": [
        "!pip -q install plotly --upgrade"
      ]
    },
    {
      "cell_type": "markdown",
      "metadata": {
        "id": "U0K1DksPi9Uw"
      },
      "source": [
        "**Importando bibliotecas**"
      ]
    },
    {
      "cell_type": "code",
      "execution_count": 3,
      "metadata": {
        "id": "nWRr2sPEldEw"
      },
      "outputs": [
        {
          "ename": "ModuleNotFoundError",
          "evalue": "No module named 'seaborn'",
          "output_type": "error",
          "traceback": [
            "\u001b[1;31m---------------------------------------------------------------------------\u001b[0m",
            "\u001b[1;31mModuleNotFoundError\u001b[0m                       Traceback (most recent call last)",
            "\u001b[1;32mc:\\Users\\User\\OneDrive - sga.pucminas.br\\Área de Trabalho\\4°periodo\\IA\\Lista3\\questao1\\Lendo_e_tratando_arquivo.ipynb Célula: 4\u001b[0m in \u001b[0;36m<cell line: 3>\u001b[1;34m()\u001b[0m\n\u001b[0;32m      <a href='vscode-notebook-cell:/c%3A/Users/User/OneDrive%20-%20sga.pucminas.br/%C3%81rea%20de%20Trabalho/4%C2%B0periodo/IA/Lista3/questao1/Lendo_e_tratando_arquivo.ipynb#W3sZmlsZQ%3D%3D?line=0'>1</a>\u001b[0m \u001b[39mimport\u001b[39;00m \u001b[39mpandas\u001b[39;00m \u001b[39mas\u001b[39;00m \u001b[39mpd\u001b[39;00m\n\u001b[0;32m      <a href='vscode-notebook-cell:/c%3A/Users/User/OneDrive%20-%20sga.pucminas.br/%C3%81rea%20de%20Trabalho/4%C2%B0periodo/IA/Lista3/questao1/Lendo_e_tratando_arquivo.ipynb#W3sZmlsZQ%3D%3D?line=1'>2</a>\u001b[0m \u001b[39mimport\u001b[39;00m \u001b[39mnumpy\u001b[39;00m \u001b[39mas\u001b[39;00m \u001b[39mnp\u001b[39;00m\n\u001b[1;32m----> <a href='vscode-notebook-cell:/c%3A/Users/User/OneDrive%20-%20sga.pucminas.br/%C3%81rea%20de%20Trabalho/4%C2%B0periodo/IA/Lista3/questao1/Lendo_e_tratando_arquivo.ipynb#W3sZmlsZQ%3D%3D?line=2'>3</a>\u001b[0m \u001b[39mimport\u001b[39;00m \u001b[39mseaborn\u001b[39;00m \u001b[39mas\u001b[39;00m \u001b[39msns\u001b[39;00m\n\u001b[0;32m      <a href='vscode-notebook-cell:/c%3A/Users/User/OneDrive%20-%20sga.pucminas.br/%C3%81rea%20de%20Trabalho/4%C2%B0periodo/IA/Lista3/questao1/Lendo_e_tratando_arquivo.ipynb#W3sZmlsZQ%3D%3D?line=3'>4</a>\u001b[0m \u001b[39mimport\u001b[39;00m \u001b[39mmatplotlib\u001b[39;00m\u001b[39m.\u001b[39;00m\u001b[39mpyplot\u001b[39;00m \u001b[39mas\u001b[39;00m \u001b[39mplt\u001b[39;00m\n\u001b[0;32m      <a href='vscode-notebook-cell:/c%3A/Users/User/OneDrive%20-%20sga.pucminas.br/%C3%81rea%20de%20Trabalho/4%C2%B0periodo/IA/Lista3/questao1/Lendo_e_tratando_arquivo.ipynb#W3sZmlsZQ%3D%3D?line=4'>5</a>\u001b[0m \u001b[39mimport\u001b[39;00m \u001b[39mplotly\u001b[39;00m\u001b[39m.\u001b[39;00m\u001b[39mexpress\u001b[39;00m \u001b[39mas\u001b[39;00m \u001b[39mpx\u001b[39;00m\n",
            "\u001b[1;31mModuleNotFoundError\u001b[0m: No module named 'seaborn'"
          ]
        }
      ],
      "source": [
        "import pandas as pd\n",
        "import numpy as np\n",
        "import seaborn as sns\n",
        "import matplotlib.pyplot as plt\n",
        "import plotly.express as px"
      ]
    },
    {
      "cell_type": "markdown",
      "metadata": {
        "id": "QDr71C7ijA-A"
      },
      "source": [
        "**Abrindo um arquivo CSV do drive**"
      ]
    },
    {
      "cell_type": "code",
      "execution_count": null,
      "metadata": {
        "id": "glNOb5UwpSYh"
      },
      "outputs": [],
      "source": [
        "base_restaurante = pd.read_csv('restaurante.csv', encoding='ISO-8859-1', sep=';')"
      ]
    },
    {
      "cell_type": "code",
      "execution_count": null,
      "metadata": {
        "id": "sejUXKSVjYYv"
      },
      "outputs": [],
      "source": [
        "base_restaurante"
      ]
    },
    {
      "cell_type": "markdown",
      "metadata": {
        "id": "c8Ki4ohnjzHV"
      },
      "source": [
        "**Contando a quantidade de instâncias**"
      ]
    },
    {
      "cell_type": "code",
      "execution_count": null,
      "metadata": {
        "colab": {
          "base_uri": "https://localhost:8080/"
        },
        "id": "uYIq3W_wj31U",
        "outputId": "78e0d1e6-faa7-4072-bad4-5ded3c31c9ad"
      },
      "outputs": [
        {
          "data": {
            "text/plain": [
              "(array(['Não', 'Sim'], dtype=object), array([6, 6]))"
            ]
          },
          "execution_count": 174,
          "metadata": {},
          "output_type": "execute_result"
        }
      ],
      "source": [
        "np.unique(base_restaurante['conc'], return_counts=True)"
      ]
    },
    {
      "cell_type": "code",
      "execution_count": null,
      "metadata": {
        "id": "lek4rrgskegr"
      },
      "outputs": [],
      "source": [
        "sns.countplot(x = base_restaurante['conc']);"
      ]
    },
    {
      "cell_type": "markdown",
      "metadata": {
        "id": "Faew52AVklZc"
      },
      "source": [
        "**Separando os atributos de entrada e de classe**"
      ]
    },
    {
      "cell_type": "code",
      "execution_count": null,
      "metadata": {
        "id": "YnjT1grekrAT"
      },
      "outputs": [],
      "source": [
        "x_prev = base_restaurante.iloc[:, 0:10].values"
      ]
    },
    {
      "cell_type": "code",
      "execution_count": null,
      "metadata": {
        "id": "7GjCNs5Uk5Nx"
      },
      "outputs": [],
      "source": [
        "x_prev"
      ]
    },
    {
      "cell_type": "code",
      "execution_count": null,
      "metadata": {
        "id": "DvYUFAVck9KJ"
      },
      "outputs": [],
      "source": [
        "x_prev_label = base_restaurante.iloc[:, 0:10]"
      ]
    },
    {
      "cell_type": "code",
      "execution_count": null,
      "metadata": {
        "id": "A5dWN8VqlDRR"
      },
      "outputs": [],
      "source": [
        "x_prev_label"
      ]
    },
    {
      "cell_type": "code",
      "execution_count": null,
      "metadata": {
        "id": "HL3tAtz3lWAI"
      },
      "outputs": [],
      "source": [
        "x_prev[:,5]"
      ]
    },
    {
      "cell_type": "code",
      "execution_count": null,
      "metadata": {
        "id": "OoXFLLEVrAnA"
      },
      "outputs": [],
      "source": [
        "y_classe = base_restaurante.iloc[:,10].values"
      ]
    },
    {
      "cell_type": "code",
      "execution_count": null,
      "metadata": {
        "id": "dHXJnBbFsxWy"
      },
      "outputs": [],
      "source": [
        "y_classe"
      ]
    },
    {
      "cell_type": "markdown",
      "metadata": {
        "id": "LYobUgJgr4W-"
      },
      "source": [
        "**Tratamento de dados categóricos**"
      ]
    },
    {
      "cell_type": "markdown",
      "metadata": {
        "id": "5Teu37HCsJbl"
      },
      "source": [
        "| LabelEncoder - Vamos tratar os dados categóricos colocando 1, 2, 3 e etc*"
      ]
    },
    {
      "cell_type": "code",
      "execution_count": null,
      "metadata": {
        "id": "II1T-OGrsCrV"
      },
      "outputs": [],
      "source": [
        "from sklearn.preprocessing import LabelEncoder"
      ]
    },
    {
      "cell_type": "code",
      "execution_count": null,
      "metadata": {
        "id": "xrIKCgvNsWlP"
      },
      "outputs": [],
      "source": [
        "label_encoder = LabelEncoder()"
      ]
    },
    {
      "cell_type": "code",
      "execution_count": null,
      "metadata": {
        "id": "jyJpQVlEsa_f"
      },
      "outputs": [],
      "source": [
        "x_prev[:,0]"
      ]
    },
    {
      "cell_type": "code",
      "execution_count": null,
      "metadata": {
        "colab": {
          "base_uri": "https://localhost:8080/"
        },
        "id": "Vg0AXQwLsbEM",
        "outputId": "d3f7e228-7ef7-4d26-c95d-bece9bd16630"
      },
      "outputs": [
        {
          "data": {
            "text/plain": [
              "array([['Sim', 'Não', 'Não', 'Sim', 'Alguns', 'RRR', 'Não', 'Sim',\n",
              "        'Francês', '0-10'],\n",
              "       ['Sim', 'Não', 'Não', 'Sim', 'Cheio', 'R', 'Não', 'Não',\n",
              "        'Tailandês', '30-60'],\n",
              "       ['Não', 'Sim', 'Não', 'Não', 'Alguns', 'R', 'Não', 'Não',\n",
              "        'Hamburger', '0-10'],\n",
              "       ['Sim', 'Não', 'Sim', 'Sim', 'Cheio', 'R', 'Sim', 'Não',\n",
              "        'Tailandês', 'out/30'],\n",
              "       ['Sim', 'Não', 'Sim', 'Não', 'Cheio', 'RRR', 'Não', 'Sim',\n",
              "        'Francês', '>60'],\n",
              "       ['Não', 'Sim', 'Não', 'Sim', 'Alguns', 'RR', 'Sim', 'Sim',\n",
              "        'Italiano', '0-10'],\n",
              "       ['Não', 'Sim', 'Não', 'Não', 'Nenhum', 'R', 'Sim', 'Não',\n",
              "        'Hamburger', '0-10'],\n",
              "       ['Não', 'Não', 'Não', 'Sim', 'Alguns', 'RR', 'Sim', 'Sim',\n",
              "        'Tailandês', '0-10'],\n",
              "       ['Não', 'Sim', 'Sim', 'Não', 'Cheio', 'R', 'Sim', 'Não',\n",
              "        'Hamburger', '>60'],\n",
              "       ['Sim', 'Sim', 'Sim', 'Sim', 'Cheio', 'RRR', 'Não', 'Sim',\n",
              "        'Italiano', 'out/30'],\n",
              "       ['Não', 'Não', 'Não', 'Não', 'Nenhum', 'R', 'Não', 'Não',\n",
              "        'Tailandês', '0-10'],\n",
              "       ['Sim', 'Sim', 'Sim', 'Sim', 'Cheio', 'R', 'Não', 'Não',\n",
              "        'Hamburger', '30-60']], dtype=object)"
            ]
          },
          "execution_count": 188,
          "metadata": {},
          "output_type": "execute_result"
        }
      ],
      "source": [
        "x_prev"
      ]
    },
    {
      "cell_type": "markdown",
      "metadata": {
        "id": "ewXXLfSkweT-"
      },
      "source": [
        "**Binarizando atributos nominais**"
      ]
    },
    {
      "cell_type": "code",
      "execution_count": null,
      "metadata": {
        "id": "y8RM3RdMs3oT"
      },
      "outputs": [],
      "source": [
        "label_encoder_Alternativo = LabelEncoder()\n",
        "label_encoder_Bar = LabelEncoder()\n",
        "label_encoder_SexSab = LabelEncoder()\n",
        "label_encoder_Fome = LabelEncoder()\n",
        "label_encoder_Chuva = LabelEncoder()\n",
        "label_encoder_Res = LabelEncoder()\n",
        "label_encoder_Conc = LabelEncoder()"
      ]
    },
    {
      "cell_type": "code",
      "execution_count": null,
      "metadata": {
        "id": "qegqtzbGupH8"
      },
      "outputs": [],
      "source": [
        "x_prev[:,0] = label_encoder_Alternativo.fit_transform(x_prev[:,0])\n",
        "x_prev[:,1] = label_encoder_Bar.fit_transform(x_prev[:,1])\n",
        "x_prev[:,2] = label_encoder_SexSab.fit_transform(x_prev[:,2])\n",
        "x_prev[:,3] = label_encoder_Fome.fit_transform(x_prev[:,3])\n",
        "x_prev[:,6] = label_encoder_Chuva.fit_transform(x_prev[:,6])\n",
        "x_prev[:,7] = label_encoder_Res.fit_transform(x_prev[:,7])"
      ]
    },
    {
      "cell_type": "code",
      "execution_count": null,
      "metadata": {
        "id": "ci13HkjuwNx2"
      },
      "outputs": [],
      "source": [
        "x_prev"
      ]
    },
    {
      "cell_type": "markdown",
      "metadata": {
        "id": "W6mQ5b5CxF_L"
      },
      "source": [
        "# **Segunda forma de binarizar**"
      ]
    },
    {
      "cell_type": "markdown",
      "metadata": {
        "id": "UumjWoq_xN0K"
      },
      "source": [
        "| OneHotEncoder - Agora vamos binarizar atributos não ordinais"
      ]
    },
    {
      "cell_type": "markdown",
      "metadata": {
        "id": "J0SduhEIxvpo"
      },
      "source": [
        "**Contando quantas opções de resposta tem cada atributo**"
      ]
    },
    {
      "cell_type": "code",
      "execution_count": null,
      "metadata": {
        "colab": {
          "base_uri": "https://localhost:8080/"
        },
        "id": "irGfBaBFx10g",
        "outputId": "3a2e319d-5b82-4373-9d8f-547a47a3b932"
      },
      "outputs": [
        {
          "data": {
            "text/plain": [
              "4"
            ]
          },
          "execution_count": 192,
          "metadata": {},
          "output_type": "execute_result"
        }
      ],
      "source": [
        "len(np.unique(base_restaurante['Tempo']))"
      ]
    },
    {
      "cell_type": "markdown",
      "metadata": {
        "id": "HvXT7mjbyEiY"
      },
      "source": [
        "**importing libraries**"
      ]
    },
    {
      "cell_type": "code",
      "execution_count": null,
      "metadata": {
        "id": "WvI9Bc1yyJgX"
      },
      "outputs": [],
      "source": [
        "from sklearn.preprocessing import OneHotEncoder\n",
        "from sklearn.compose import ColumnTransformer"
      ]
    },
    {
      "cell_type": "code",
      "execution_count": null,
      "metadata": {
        "id": "yykRfGO-6ffg"
      },
      "outputs": [],
      "source": [
        "x_prev"
      ]
    },
    {
      "cell_type": "code",
      "execution_count": null,
      "metadata": {
        "id": "hpnAQDEo6jz7"
      },
      "outputs": [],
      "source": [
        "onehotencoder_restaurante = ColumnTransformer(transformers=[('OneHot', OneHotEncoder(), [4,5,8,9])], remainder=\"passthrough\")"
      ]
    },
    {
      "cell_type": "code",
      "execution_count": null,
      "metadata": {
        "id": "56q5BuYw68u8"
      },
      "outputs": [],
      "source": [
        "x_prev = onehotencoder_restaurante.fit_transform(x_prev)"
      ]
    },
    {
      "cell_type": "code",
      "execution_count": null,
      "metadata": {
        "id": "iJ98ZfgV7MVS"
      },
      "outputs": [],
      "source": [
        "x_prev"
      ]
    },
    {
      "cell_type": "markdown",
      "metadata": {
        "id": "Hzi2tLgX7vPb"
      },
      "source": [
        "| Mostrando o número de opções de resposta"
      ]
    },
    {
      "cell_type": "code",
      "execution_count": null,
      "metadata": {
        "id": "tnZQpXP_7O35"
      },
      "outputs": [],
      "source": [
        "x_prev.shape"
      ]
    },
    {
      "cell_type": "markdown",
      "metadata": {
        "id": "E1RM7SdS9K_9"
      },
      "source": [
        "**Método de amostragem Holdout**"
      ]
    },
    {
      "cell_type": "code",
      "execution_count": null,
      "metadata": {
        "id": "jjklhXey9Nf6"
      },
      "outputs": [],
      "source": [
        "from sklearn.model_selection import train_test_split"
      ]
    },
    {
      "cell_type": "markdown",
      "metadata": {
        "id": "1LVCKc0c8Y5Z"
      },
      "source": [
        "| Conjunto de atributos de entrada"
      ]
    },
    {
      "cell_type": "code",
      "execution_count": null,
      "metadata": {
        "id": "9RO9iaG89Xax"
      },
      "outputs": [],
      "source": [
        "x_prev"
      ]
    },
    {
      "cell_type": "markdown",
      "metadata": {
        "id": "-LZAd7cO8TfB"
      },
      "source": [
        "| Classe das minhas instâncias"
      ]
    },
    {
      "cell_type": "code",
      "execution_count": null,
      "metadata": {
        "id": "y8FujWMm8SGh"
      },
      "outputs": [],
      "source": [
        "y_classe"
      ]
    },
    {
      "cell_type": "code",
      "execution_count": null,
      "metadata": {
        "id": "oUSlrtNm8ohH"
      },
      "outputs": [],
      "source": [
        "y_classe.shape"
      ]
    },
    {
      "cell_type": "markdown",
      "metadata": {
        "id": "wHSSj0iWQTN6"
      },
      "source": [
        "| Vamos dividir os dados no conjunto de treinamento e teste no intervalo de 80:20"
      ]
    },
    {
      "cell_type": "code",
      "execution_count": null,
      "metadata": {
        "id": "wnoM2UWT9rIu"
      },
      "outputs": [],
      "source": [
        "x_treino, x_teste, y_treino, y_teste = train_test_split(x_prev, y_classe, test_size = 0.20, random_state = 0)"
      ]
    },
    {
      "cell_type": "code",
      "execution_count": null,
      "metadata": {
        "id": "U0ct2nDl94Fz"
      },
      "outputs": [],
      "source": [
        "x_treino.shape"
      ]
    },
    {
      "cell_type": "code",
      "execution_count": null,
      "metadata": {
        "id": "o-eZ-XU697jb"
      },
      "outputs": [],
      "source": [
        "x_teste"
      ]
    },
    {
      "cell_type": "code",
      "execution_count": null,
      "metadata": {
        "id": "AYApkErl_GHa"
      },
      "outputs": [],
      "source": [
        "y_treino"
      ]
    },
    {
      "cell_type": "code",
      "execution_count": null,
      "metadata": {
        "id": "124rUhbT_H6n"
      },
      "outputs": [],
      "source": [
        "y_teste"
      ]
    },
    {
      "cell_type": "code",
      "execution_count": null,
      "metadata": {
        "id": "eQmJcOGN_JTw"
      },
      "outputs": [],
      "source": [
        "import pickle"
      ]
    },
    {
      "cell_type": "code",
      "execution_count": null,
      "metadata": {
        "id": "nF0f_ZrS_JZg"
      },
      "outputs": [],
      "source": [
        "with open('/content/sample_data/restaurante.pkl', mode = 'wb') as f:\n",
        "  pickle.dump([x_treino, x_teste, y_treino, y_teste], f)"
      ]
    }
  ],
  "metadata": {
    "colab": {
      "collapsed_sections": [],
      "provenance": []
    },
    "kernelspec": {
      "display_name": "Python 3.10.6 64-bit",
      "language": "python",
      "name": "python3"
    },
    "language_info": {
      "codemirror_mode": {
        "name": "ipython",
        "version": 3
      },
      "file_extension": ".py",
      "mimetype": "text/x-python",
      "name": "python",
      "nbconvert_exporter": "python",
      "pygments_lexer": "ipython3",
      "version": "3.10.6"
    },
    "vscode": {
      "interpreter": {
        "hash": "afb734500600fd355917ca529030176ea0ca205570884b88f2f6f7d791fd3fbe"
      }
    }
  },
  "nbformat": 4,
  "nbformat_minor": 0
}
