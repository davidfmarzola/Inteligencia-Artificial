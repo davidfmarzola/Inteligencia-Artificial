{
  "cells": [
    {
      "cell_type": "markdown",
      "metadata": {
        "id": "RzEQE1Q4i2B4"
      },
      "source": [
        "**Atualizando a biblioteca para plotagem de gráficos**"
      ]
    },
    {
      "cell_type": "code",
      "execution_count": 4,
      "metadata": {
        "colab": {
          "base_uri": "https://localhost:8080/"
        },
        "id": "4UKEgIDHqLoP",
        "outputId": "50d3e3ce-31c9-435f-f707-c6058fb29b01"
      },
      "outputs": [],
      "source": [
        "!pip -q install plotly --upgrade"
      ]
    },
    {
      "cell_type": "markdown",
      "metadata": {
        "id": "U0K1DksPi9Uw"
      },
      "source": [
        "**Importando bibliotecas**"
      ]
    },
    {
      "cell_type": "code",
      "execution_count": 5,
      "metadata": {
        "id": "nWRr2sPEldEw"
      },
      "outputs": [
        {
          "ename": "ModuleNotFoundError",
          "evalue": "No module named 'seaborn'",
          "output_type": "error",
          "traceback": [
            "\u001b[1;31m---------------------------------------------------------------------------\u001b[0m",
            "\u001b[1;31mModuleNotFoundError\u001b[0m                       Traceback (most recent call last)",
            "\u001b[1;32mc:\\Users\\User\\OneDrive - sga.pucminas.br\\Documentos\\git\\Inteligencia-Artificial\\DecisionTree\\base_jogar_tenis\\Lendo_e_tratando_arquivo.ipynb Célula: 4\u001b[0m in \u001b[0;36m<cell line: 3>\u001b[1;34m()\u001b[0m\n\u001b[0;32m      <a href='vscode-notebook-cell:/c%3A/Users/User/OneDrive%20-%20sga.pucminas.br/Documentos/git/Inteligencia-Artificial/DecisionTree/base_jogar_tenis/Lendo_e_tratando_arquivo.ipynb#W3sZmlsZQ%3D%3D?line=0'>1</a>\u001b[0m \u001b[39mimport\u001b[39;00m \u001b[39mpandas\u001b[39;00m \u001b[39mas\u001b[39;00m \u001b[39mpd\u001b[39;00m\n\u001b[0;32m      <a href='vscode-notebook-cell:/c%3A/Users/User/OneDrive%20-%20sga.pucminas.br/Documentos/git/Inteligencia-Artificial/DecisionTree/base_jogar_tenis/Lendo_e_tratando_arquivo.ipynb#W3sZmlsZQ%3D%3D?line=1'>2</a>\u001b[0m \u001b[39mimport\u001b[39;00m \u001b[39mnumpy\u001b[39;00m \u001b[39mas\u001b[39;00m \u001b[39mnp\u001b[39;00m\n\u001b[1;32m----> <a href='vscode-notebook-cell:/c%3A/Users/User/OneDrive%20-%20sga.pucminas.br/Documentos/git/Inteligencia-Artificial/DecisionTree/base_jogar_tenis/Lendo_e_tratando_arquivo.ipynb#W3sZmlsZQ%3D%3D?line=2'>3</a>\u001b[0m \u001b[39mimport\u001b[39;00m \u001b[39mseaborn\u001b[39;00m \u001b[39mas\u001b[39;00m \u001b[39msns\u001b[39;00m\n\u001b[0;32m      <a href='vscode-notebook-cell:/c%3A/Users/User/OneDrive%20-%20sga.pucminas.br/Documentos/git/Inteligencia-Artificial/DecisionTree/base_jogar_tenis/Lendo_e_tratando_arquivo.ipynb#W3sZmlsZQ%3D%3D?line=3'>4</a>\u001b[0m \u001b[39mimport\u001b[39;00m \u001b[39mmatplotlib\u001b[39;00m\u001b[39m.\u001b[39;00m\u001b[39mpyplot\u001b[39;00m \u001b[39mas\u001b[39;00m \u001b[39mplt\u001b[39;00m\n\u001b[0;32m      <a href='vscode-notebook-cell:/c%3A/Users/User/OneDrive%20-%20sga.pucminas.br/Documentos/git/Inteligencia-Artificial/DecisionTree/base_jogar_tenis/Lendo_e_tratando_arquivo.ipynb#W3sZmlsZQ%3D%3D?line=4'>5</a>\u001b[0m \u001b[39mimport\u001b[39;00m \u001b[39mplotly\u001b[39;00m\u001b[39m.\u001b[39;00m\u001b[39mexpress\u001b[39;00m \u001b[39mas\u001b[39;00m \u001b[39mpx\u001b[39;00m\n",
            "\u001b[1;31mModuleNotFoundError\u001b[0m: No module named 'seaborn'"
          ]
        }
      ],
      "source": [
        "import pandas as pd\n",
        "import numpy as np\n",
        "import seaborn as sns\n",
        "import matplotlib.pyplot as plt\n",
        "import plotly.express as px"
      ]
    },
    {
      "cell_type": "markdown",
      "metadata": {
        "id": "QDr71C7ijA-A"
      },
      "source": [
        "**Abrindo um arquivo CSV do drive**"
      ]
    },
    {
      "cell_type": "code",
      "execution_count": null,
      "metadata": {
        "id": "glNOb5UwpSYh"
      },
      "outputs": [],
      "source": [
        "base_tenis = pd.read_csv('/content/PlayTennis.csv', sep=',')"
      ]
    },
    {
      "cell_type": "code",
      "execution_count": null,
      "metadata": {
        "id": "sejUXKSVjYYv"
      },
      "outputs": [],
      "source": [
        "base_tenis"
      ]
    },
    {
      "cell_type": "markdown",
      "metadata": {
        "id": "c8Ki4ohnjzHV"
      },
      "source": [
        "**Contando a quantidade de instâncias do atributo alvo \"play\"**"
      ]
    },
    {
      "cell_type": "code",
      "execution_count": null,
      "metadata": {
        "id": "uYIq3W_wj31U"
      },
      "outputs": [],
      "source": [
        "np.unique(base_tenis['play'], return_counts=True)"
      ]
    },
    {
      "cell_type": "code",
      "execution_count": null,
      "metadata": {
        "id": "lek4rrgskegr"
      },
      "outputs": [],
      "source": [
        "sns.countplot(x = base_tenis['play']);"
      ]
    },
    {
      "cell_type": "markdown",
      "metadata": {
        "id": "Faew52AVklZc"
      },
      "source": [
        "**Separando os atributos de entrada e de classe**"
      ]
    },
    {
      "cell_type": "code",
      "execution_count": null,
      "metadata": {
        "id": "YnjT1grekrAT"
      },
      "outputs": [],
      "source": [
        "x_prev = base_tenis.iloc[:, 0:4].values"
      ]
    },
    {
      "cell_type": "code",
      "execution_count": null,
      "metadata": {
        "id": "7GjCNs5Uk5Nx"
      },
      "outputs": [],
      "source": [
        "x_prev"
      ]
    },
    {
      "cell_type": "code",
      "execution_count": null,
      "metadata": {
        "id": "DvYUFAVck9KJ"
      },
      "outputs": [],
      "source": [
        "x_prev_label = base_tenis.iloc[:, 0:4]"
      ]
    },
    {
      "cell_type": "code",
      "execution_count": null,
      "metadata": {
        "id": "A5dWN8VqlDRR"
      },
      "outputs": [],
      "source": [
        "x_prev_label"
      ]
    },
    {
      "cell_type": "code",
      "execution_count": null,
      "metadata": {
        "id": "HL3tAtz3lWAI"
      },
      "outputs": [],
      "source": [
        "x_prev[:,2]"
      ]
    },
    {
      "cell_type": "code",
      "execution_count": null,
      "metadata": {
        "id": "OoXFLLEVrAnA"
      },
      "outputs": [],
      "source": [
        "y_classe = base_tenis.iloc[:,4].values"
      ]
    },
    {
      "cell_type": "code",
      "execution_count": null,
      "metadata": {
        "colab": {
          "base_uri": "https://localhost:8080/"
        },
        "id": "dHXJnBbFsxWy",
        "outputId": "0fea215e-9c9f-486c-ac88-4ecda516d334"
      },
      "outputs": [
        {
          "data": {
            "text/plain": [
              "array(['no', 'no', 'yes', 'yes', 'yes', 'no', 'yes', 'no', 'yes', 'yes',\n",
              "       'yes', 'yes', 'yes', 'no'], dtype=object)"
            ]
          },
          "execution_count": 14,
          "metadata": {},
          "output_type": "execute_result"
        }
      ],
      "source": [
        "y_classe"
      ]
    },
    {
      "cell_type": "markdown",
      "metadata": {
        "id": "LYobUgJgr4W-"
      },
      "source": [
        "**Tratamento de dados categóricos**"
      ]
    },
    {
      "cell_type": "markdown",
      "metadata": {
        "id": "5Teu37HCsJbl"
      },
      "source": [
        "| LabelEncoder - Vamos tratar os dados categóricos colocando 1, 2, 3 e etc*"
      ]
    },
    {
      "cell_type": "code",
      "execution_count": null,
      "metadata": {
        "id": "II1T-OGrsCrV"
      },
      "outputs": [],
      "source": [
        "from sklearn.preprocessing import LabelEncoder"
      ]
    },
    {
      "cell_type": "code",
      "execution_count": null,
      "metadata": {
        "id": "xrIKCgvNsWlP"
      },
      "outputs": [],
      "source": [
        "label_encoder = LabelEncoder()"
      ]
    },
    {
      "cell_type": "code",
      "execution_count": null,
      "metadata": {
        "colab": {
          "base_uri": "https://localhost:8080/"
        },
        "id": "jyJpQVlEsa_f",
        "outputId": "d1dbfbb5-5d5d-4884-a22f-9110bffc7d69"
      },
      "outputs": [
        {
          "data": {
            "text/plain": [
              "array(['sunny', 'sunny', 'overcast', 'rainy', 'rainy', 'rainy',\n",
              "       'overcast', 'sunny', 'sunny', 'rainy', 'sunny', 'overcast',\n",
              "       'overcast', 'rainy'], dtype=object)"
            ]
          },
          "execution_count": 18,
          "metadata": {},
          "output_type": "execute_result"
        }
      ],
      "source": [
        "x_prev[:,0]"
      ]
    },
    {
      "cell_type": "code",
      "execution_count": null,
      "metadata": {
        "id": "Vg0AXQwLsbEM"
      },
      "outputs": [],
      "source": [
        "x_prev"
      ]
    },
    {
      "cell_type": "markdown",
      "metadata": {
        "id": "ewXXLfSkweT-"
      },
      "source": [
        "**Binarizando atributos nominais**"
      ]
    },
    {
      "cell_type": "code",
      "execution_count": null,
      "metadata": {
        "id": "y8RM3RdMs3oT"
      },
      "outputs": [],
      "source": [
        "label_encoder_Humidity = LabelEncoder()\n",
        "label_encoder_Windy = LabelEncoder()"
      ]
    },
    {
      "cell_type": "code",
      "execution_count": null,
      "metadata": {
        "id": "qegqtzbGupH8"
      },
      "outputs": [],
      "source": [
        "x_prev[:,2] = label_encoder_Humidity.fit_transform(x_prev[:,2])\n",
        "x_prev[:,3] = label_encoder_Windy.fit_transform(x_prev[:,3])"
      ]
    },
    {
      "cell_type": "code",
      "execution_count": null,
      "metadata": {
        "id": "ci13HkjuwNx2"
      },
      "outputs": [],
      "source": [
        "x_prev"
      ]
    },
    {
      "cell_type": "markdown",
      "metadata": {
        "id": "W6mQ5b5CxF_L"
      },
      "source": [
        "# **Segunda forma de binarizar**"
      ]
    },
    {
      "cell_type": "markdown",
      "metadata": {
        "id": "UumjWoq_xN0K"
      },
      "source": [
        "| OneHotEncoder - Agora vamos binarizar atributos não ordinais"
      ]
    },
    {
      "cell_type": "markdown",
      "metadata": {
        "id": "J0SduhEIxvpo"
      },
      "source": [
        "**Contando quantas opções de resposta tem cada atributo**"
      ]
    },
    {
      "cell_type": "code",
      "execution_count": null,
      "metadata": {
        "colab": {
          "base_uri": "https://localhost:8080/"
        },
        "id": "irGfBaBFx10g",
        "outputId": "ffe38e53-1ba4-48dd-f545-b9f2bac55da5"
      },
      "outputs": [
        {
          "data": {
            "text/plain": [
              "3"
            ]
          },
          "execution_count": 22,
          "metadata": {},
          "output_type": "execute_result"
        }
      ],
      "source": [
        "len(np.unique(base_tenis['outlook']))"
      ]
    },
    {
      "cell_type": "markdown",
      "metadata": {
        "id": "HvXT7mjbyEiY"
      },
      "source": [
        "**importing libraries**"
      ]
    },
    {
      "cell_type": "code",
      "execution_count": null,
      "metadata": {
        "id": "WvI9Bc1yyJgX"
      },
      "outputs": [],
      "source": [
        "from sklearn.preprocessing import OneHotEncoder\n",
        "from sklearn.compose import ColumnTransformer"
      ]
    },
    {
      "cell_type": "code",
      "execution_count": null,
      "metadata": {
        "id": "yykRfGO-6ffg"
      },
      "outputs": [],
      "source": [
        "x_prev"
      ]
    },
    {
      "cell_type": "code",
      "execution_count": null,
      "metadata": {
        "id": "hpnAQDEo6jz7"
      },
      "outputs": [],
      "source": [
        "onehotencoder_tenis = ColumnTransformer(transformers=[('OneHot', OneHotEncoder(), [0,1])], remainder=\"passthrough\")"
      ]
    },
    {
      "cell_type": "code",
      "execution_count": null,
      "metadata": {
        "id": "56q5BuYw68u8"
      },
      "outputs": [],
      "source": [
        "x_prev = onehotencoder_tenis.fit_transform(x_prev)"
      ]
    },
    {
      "cell_type": "code",
      "execution_count": null,
      "metadata": {
        "id": "iJ98ZfgV7MVS"
      },
      "outputs": [],
      "source": [
        "x_prev"
      ]
    },
    {
      "cell_type": "markdown",
      "metadata": {
        "id": "Hzi2tLgX7vPb"
      },
      "source": [
        "| Mostrando o número de opções de resposta"
      ]
    },
    {
      "cell_type": "code",
      "execution_count": null,
      "metadata": {
        "id": "tnZQpXP_7O35"
      },
      "outputs": [],
      "source": [
        "x_prev.shape"
      ]
    },
    {
      "cell_type": "markdown",
      "metadata": {
        "id": "E1RM7SdS9K_9"
      },
      "source": [
        "**Método de amostragem Holdout**"
      ]
    },
    {
      "cell_type": "code",
      "execution_count": null,
      "metadata": {
        "id": "jjklhXey9Nf6"
      },
      "outputs": [],
      "source": [
        "from sklearn.model_selection import train_test_split"
      ]
    },
    {
      "cell_type": "markdown",
      "metadata": {
        "id": "1LVCKc0c8Y5Z"
      },
      "source": [
        "| Conjunto de atributos de entrada"
      ]
    },
    {
      "cell_type": "code",
      "execution_count": null,
      "metadata": {
        "id": "9RO9iaG89Xax"
      },
      "outputs": [],
      "source": [
        "x_prev"
      ]
    },
    {
      "cell_type": "markdown",
      "metadata": {
        "id": "-LZAd7cO8TfB"
      },
      "source": [
        "| Classe das minhas instâncias"
      ]
    },
    {
      "cell_type": "code",
      "execution_count": null,
      "metadata": {
        "id": "y8FujWMm8SGh"
      },
      "outputs": [
        {
          "ename": "NameError",
          "evalue": "name 'y_classe' is not defined",
          "output_type": "error",
          "traceback": [
            "\u001b[1;31m---------------------------------------------------------------------------\u001b[0m",
            "\u001b[1;31mNameError\u001b[0m                                 Traceback (most recent call last)",
            "\u001b[1;32mc:\\Users\\User\\OneDrive - sga.pucminas.br\\Documentos\\git\\Inteligencia-Artificial\\DecisionTree\\base_jogar_tenis\\Lendo_e_tratando_arquivo.ipynb Célula: 46\u001b[0m in \u001b[0;36m<cell line: 1>\u001b[1;34m()\u001b[0m\n\u001b[1;32m----> <a href='vscode-notebook-cell:/c%3A/Users/User/OneDrive%20-%20sga.pucminas.br/Documentos/git/Inteligencia-Artificial/DecisionTree/base_jogar_tenis/Lendo_e_tratando_arquivo.ipynb#X63sZmlsZQ%3D%3D?line=0'>1</a>\u001b[0m y_classe\n",
            "\u001b[1;31mNameError\u001b[0m: name 'y_classe' is not defined"
          ]
        }
      ],
      "source": [
        "y_classe"
      ]
    },
    {
      "cell_type": "code",
      "execution_count": 6,
      "metadata": {
        "id": "oUSlrtNm8ohH"
      },
      "outputs": [
        {
          "ename": "NameError",
          "evalue": "name 'y_classe' is not defined",
          "output_type": "error",
          "traceback": [
            "\u001b[1;31m---------------------------------------------------------------------------\u001b[0m",
            "\u001b[1;31mNameError\u001b[0m                                 Traceback (most recent call last)",
            "\u001b[1;32mc:\\Users\\User\\OneDrive - sga.pucminas.br\\Documentos\\git\\Inteligencia-Artificial\\DecisionTree\\base_jogar_tenis\\Lendo_e_tratando_arquivo.ipynb Célula: 47\u001b[0m in \u001b[0;36m<cell line: 1>\u001b[1;34m()\u001b[0m\n\u001b[1;32m----> <a href='vscode-notebook-cell:/c%3A/Users/User/OneDrive%20-%20sga.pucminas.br/Documentos/git/Inteligencia-Artificial/DecisionTree/base_jogar_tenis/Lendo_e_tratando_arquivo.ipynb#X64sZmlsZQ%3D%3D?line=0'>1</a>\u001b[0m y_classe\u001b[39m.\u001b[39mshape\n",
            "\u001b[1;31mNameError\u001b[0m: name 'y_classe' is not defined"
          ]
        }
      ],
      "source": [
        "y_classe.shape"
      ]
    },
    {
      "cell_type": "markdown",
      "metadata": {
        "id": "wHSSj0iWQTN6"
      },
      "source": [
        "| Vamos dividir os dados no conjunto de treinamento e teste no intervalo de 80:20"
      ]
    },
    {
      "cell_type": "code",
      "execution_count": null,
      "metadata": {
        "id": "wnoM2UWT9rIu"
      },
      "outputs": [],
      "source": [
        "x_treino, x_teste, y_treino, y_teste = train_test_split(x_prev, y_classe, test_size = 0.20, random_state = 0)"
      ]
    },
    {
      "cell_type": "code",
      "execution_count": null,
      "metadata": {
        "colab": {
          "base_uri": "https://localhost:8080/"
        },
        "id": "U0ct2nDl94Fz",
        "outputId": "71f57d90-e9f6-4c22-9233-d213f61ea75d"
      },
      "outputs": [
        {
          "data": {
            "text/plain": [
              "(11, 8)"
            ]
          },
          "execution_count": 46,
          "metadata": {},
          "output_type": "execute_result"
        }
      ],
      "source": [
        "x_treino.shape"
      ]
    },
    {
      "cell_type": "code",
      "execution_count": null,
      "metadata": {
        "id": "o-eZ-XU697jb"
      },
      "outputs": [],
      "source": [
        "x_teste"
      ]
    },
    {
      "cell_type": "code",
      "execution_count": null,
      "metadata": {
        "colab": {
          "base_uri": "https://localhost:8080/"
        },
        "id": "AYApkErl_GHa",
        "outputId": "7c8aa4c0-570b-4a82-c099-bb148d92464f"
      },
      "outputs": [
        {
          "data": {
            "text/plain": [
              "array(['yes', 'yes', 'no', 'yes', 'no', 'no', 'yes', 'yes', 'no', 'no',\n",
              "       'yes'], dtype=object)"
            ]
          },
          "execution_count": 48,
          "metadata": {},
          "output_type": "execute_result"
        }
      ],
      "source": [
        "y_treino"
      ]
    },
    {
      "cell_type": "code",
      "execution_count": null,
      "metadata": {
        "colab": {
          "base_uri": "https://localhost:8080/"
        },
        "id": "124rUhbT_H6n",
        "outputId": "247808c8-85d2-410b-a58f-553da3c4b133"
      },
      "outputs": [
        {
          "data": {
            "text/plain": [
              "array(['yes', 'yes', 'yes'], dtype=object)"
            ]
          },
          "execution_count": 49,
          "metadata": {},
          "output_type": "execute_result"
        }
      ],
      "source": [
        "y_teste"
      ]
    },
    {
      "cell_type": "code",
      "execution_count": null,
      "metadata": {
        "id": "eQmJcOGN_JTw"
      },
      "outputs": [],
      "source": [
        "import pickle"
      ]
    },
    {
      "cell_type": "code",
      "execution_count": null,
      "metadata": {
        "id": "nF0f_ZrS_JZg"
      },
      "outputs": [],
      "source": [
        "with open('/content/sample_data/tenis.pkl', mode = 'wb') as f:\n",
        "  pickle.dump([x_treino, x_teste, y_treino, y_teste], f)"
      ]
    }
  ],
  "metadata": {
    "colab": {
      "collapsed_sections": [],
      "provenance": []
    },
    "kernelspec": {
      "display_name": "Python 3.10.6 64-bit",
      "language": "python",
      "name": "python3"
    },
    "language_info": {
      "codemirror_mode": {
        "name": "ipython",
        "version": 3
      },
      "file_extension": ".py",
      "mimetype": "text/x-python",
      "name": "python",
      "nbconvert_exporter": "python",
      "pygments_lexer": "ipython3",
      "version": "3.10.6"
    },
    "vscode": {
      "interpreter": {
        "hash": "afb734500600fd355917ca529030176ea0ca205570884b88f2f6f7d791fd3fbe"
      }
    }
  },
  "nbformat": 4,
  "nbformat_minor": 0
}
