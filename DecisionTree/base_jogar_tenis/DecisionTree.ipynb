{
  "nbformat": 4,
  "nbformat_minor": 0,
  "metadata": {
    "colab": {
      "provenance": [],
      "collapsed_sections": []
    },
    "kernelspec": {
      "name": "python3",
      "display_name": "Python 3"
    },
    "language_info": {
      "name": "python"
    }
  },
  "cells": [
    {
      "cell_type": "code",
      "execution_count": null,
      "metadata": {
        "id": "vQ2G194jLwAG"
      },
      "outputs": [],
      "source": [
        "!pip -q install yellowbrick"
      ]
    },
    {
      "cell_type": "code",
      "source": [
        "import pandas as pd\n",
        "import numpy as np\n",
        "import matplotlib.pyplot as plt\n",
        "import plotly.express as px\n",
        "from sklearn.tree import DecisionTreeClassifier"
      ],
      "metadata": {
        "id": "e3eWBg53L6Ix"
      },
      "execution_count": 2,
      "outputs": []
    },
    {
      "cell_type": "code",
      "source": [
        "import pickle\n",
        "with open('/content/tenis.pkl','rb') as f:\n",
        "  x_treino, x_teste, y_treino, y_teste = pickle.load(f)"
      ],
      "metadata": {
        "id": "q9cLEwqcMGVQ"
      },
      "execution_count": 3,
      "outputs": []
    },
    {
      "cell_type": "markdown",
      "source": [
        "| Gini measures the impurity of the node in a decision tree"
      ],
      "metadata": {
        "id": "aI1Ag3myt_Z3"
      }
    },
    {
      "cell_type": "code",
      "source": [
        "modelo = DecisionTreeClassifier(criterion=\"entropy\")\n",
        "modelo.fit(x_treino, y_treino)"
      ],
      "metadata": {
        "id": "_r_BbXciMgCQ",
        "colab": {
          "base_uri": "https://localhost:8080/"
        },
        "outputId": "921b4dd9-e1db-429c-db78-d048db46c8c4"
      },
      "execution_count": 4,
      "outputs": [
        {
          "output_type": "execute_result",
          "data": {
            "text/plain": [
              "DecisionTreeClassifier(criterion='entropy')"
            ]
          },
          "metadata": {},
          "execution_count": 4
        }
      ]
    },
    {
      "cell_type": "markdown",
      "source": [
        "**Vamos testar o modelo?**"
      ],
      "metadata": {
        "id": "O-MwgQtlMoyu"
      }
    },
    {
      "cell_type": "code",
      "source": [
        "previsoes = modelo.predict(x_teste)"
      ],
      "metadata": {
        "id": "4R0IKh49Mrrm"
      },
      "execution_count": 5,
      "outputs": []
    },
    {
      "cell_type": "code",
      "source": [
        "previsoes"
      ],
      "metadata": {
        "id": "d-Z7qwPmMugu"
      },
      "execution_count": null,
      "outputs": []
    },
    {
      "cell_type": "markdown",
      "source": [
        "**Será que o modelo acertou?**"
      ],
      "metadata": {
        "id": "shTcne90M1je"
      }
    },
    {
      "cell_type": "code",
      "source": [
        "y_teste"
      ],
      "metadata": {
        "id": "HHV1_SPBM4i3"
      },
      "execution_count": null,
      "outputs": []
    },
    {
      "cell_type": "code",
      "source": [
        "from sklearn.metrics import accuracy_score, confusion_matrix, classification_report\n",
        "print(\"Accuracy:\", accuracy_score(y_teste,previsoes))"
      ],
      "metadata": {
        "id": "yG3Gt8QSM6Dl",
        "colab": {
          "base_uri": "https://localhost:8080/"
        },
        "outputId": "55b2a547-72ef-4e0f-f190-77c90e47ddae"
      },
      "execution_count": 6,
      "outputs": [
        {
          "output_type": "stream",
          "name": "stdout",
          "text": [
            "Accuracy: 0.3333333333333333\n"
          ]
        }
      ]
    },
    {
      "cell_type": "code",
      "source": [
        "from yellowbrick.classifier import ConfusionMatrix\n",
        "confusion_matrix(y_teste, previsoes)"
      ],
      "metadata": {
        "id": "V1O5I62MNldD",
        "colab": {
          "base_uri": "https://localhost:8080/"
        },
        "outputId": "a5558abe-c742-4f74-8c09-fc0e20c7ce62"
      },
      "execution_count": 7,
      "outputs": [
        {
          "output_type": "execute_result",
          "data": {
            "text/plain": [
              "array([[0, 0],\n",
              "       [2, 1]])"
            ]
          },
          "metadata": {},
          "execution_count": 7
        }
      ]
    },
    {
      "cell_type": "markdown",
      "source": [
        "**Accuracy and Confusion_Matrix**"
      ],
      "metadata": {
        "id": "FlIcAA8yOgqI"
      }
    },
    {
      "cell_type": "code",
      "source": [
        "cm = ConfusionMatrix(modelo)\n",
        "cm.fit(x_treino, y_treino)\n",
        "cm.score(x_teste, y_teste)"
      ],
      "metadata": {
        "id": "o2LJAhKCNxkS"
      },
      "execution_count": null,
      "outputs": []
    },
    {
      "cell_type": "markdown",
      "source": [
        "**Métricas do modelo**"
      ],
      "metadata": {
        "id": "wM1k4WPROa-g"
      }
    },
    {
      "cell_type": "code",
      "source": [
        "print(classification_report(y_teste, previsoes))"
      ],
      "metadata": {
        "id": "fe2cJXtSN_d6"
      },
      "execution_count": null,
      "outputs": []
    },
    {
      "cell_type": "markdown",
      "source": [
        "**Visualizing the decision tree**"
      ],
      "metadata": {
        "id": "MQnueEXVs9o7"
      }
    },
    {
      "cell_type": "markdown",
      "source": [
        "| Importing libraries"
      ],
      "metadata": {
        "id": "3V-PDnI2tFKq"
      }
    },
    {
      "cell_type": "code",
      "source": [
        "from sklearn.tree import export_graphviz\n",
        "from six import StringIO  \n",
        "from IPython.display import Image  \n",
        "import pydotplus"
      ],
      "metadata": {
        "id": "qJaFn5NZtHIJ"
      },
      "execution_count": 9,
      "outputs": []
    },
    {
      "cell_type": "code",
      "source": [
        "dot_data = StringIO()\n",
        "export_graphviz(modelo, out_file=dot_data,  \n",
        "                filled=True, rounded=True,\n",
        "                special_characters=True,class_names=['0','1'])\n",
        "graph = pydotplus.graph_from_dot_data(dot_data.getvalue())  \n",
        "graph.write_png('tenis.png')\n",
        "Image(graph.create_png())"
      ],
      "metadata": {
        "id": "CrKLOrbatSNg"
      },
      "execution_count": null,
      "outputs": []
    }
  ]
}